{
 "cells": [
  {
   "cell_type": "markdown",
   "metadata": {
    "colab_type": "text",
    "id": "view-in-github"
   },
   "source": [
    "<a href=\"https://colab.research.google.com/github/tifat58/PET-2020/blob/master/model_inversion_final.ipynb\" target=\"_parent\"><img src=\"https://colab.research.google.com/assets/colab-badge.svg\" alt=\"Open In Colab\"/></a>"
   ]
  },
  {
   "cell_type": "markdown",
   "metadata": {
    "colab_type": "text",
    "id": "yx65zHpAC7cG"
   },
   "source": [
    "<h3>Attack 2: Model Inversion Attack</h3>\n",
    "<h3>Group Info:</h3>\n",
    "Name: Benjamin Hollinger<br>\n",
    "Matriculation Number: 2026431\n",
    "<br>\n",
    "<br>\n",
    "Name: Hasan Md Tusfiqur Alam<br>\n",
    "Matriculation Number: 2571663\n",
    "<br>\n",
    "<br>\n",
    "Name: Rayhanul Islam Rumel<br>\n",
    "Matriculation Number: 2576541\n"
   ]
  },
  {
   "cell_type": "code",
   "execution_count": 2,
   "metadata": {
    "colab": {},
    "colab_type": "code",
    "id": "pqXCFobXn8Nm"
   },
   "outputs": [],
   "source": [
    "from __future__ import print_function, division\n",
    "\n",
    "import torch\n",
    "import torch.nn as nn\n",
    "import torch.optim as optim\n",
    "from torch.optim import lr_scheduler\n",
    "import numpy as np\n",
    "import torchvision\n",
    "from torchvision import datasets, models, transforms\n",
    "from torch.utils.data import Subset, Dataset, DataLoader\n",
    "import matplotlib.pyplot as plt\n",
    "import time\n",
    "import os\n",
    "import copy\n",
    "import pandas as pd\n",
    "import random\n",
    "import torchvision.transforms as transforms\n",
    "\n",
    "plt.ion()   # interactive mode\n",
    "device = torch.device(\"cuda:0\" if torch.cuda.is_available() else \"cpu\")\n"
   ]
  },
  {
   "cell_type": "code",
   "execution_count": null,
   "metadata": {
    "colab": {
     "base_uri": "https://localhost:8080/",
     "height": 34
    },
    "colab_type": "code",
    "id": "NxToRX1pXNyo",
    "outputId": "d0694f77-8cd3-4007-fb9a-88affeec11a3"
   },
   "outputs": [
    {
     "name": "stdout",
     "output_type": "stream",
     "text": [
      "Drive already mounted at /content/gdrive; to attempt to forcibly remount, call drive.mount(\"/content/gdrive\", force_remount=True).\n"
     ]
    }
   ],
   "source": [
    "\n",
    "from google.colab import drive\n",
    "drive.mount('/content/gdrive')"
   ]
  },
  {
   "cell_type": "markdown",
   "metadata": {
    "colab_type": "text",
    "id": "cHQOiIyVxdO4"
   },
   "source": [
    "**Section: Common Model classes, DataBase classs and functions**"
   ]
  },
  {
   "cell_type": "code",
   "execution_count": 3,
   "metadata": {
    "colab": {},
    "colab_type": "code",
    "id": "Q9pWJZ-lqzvh"
   },
   "outputs": [],
   "source": [
    "\n",
    "\"\"\" LeNet architecture implementation\n",
    "    This model is used to train mnist and fashion mnist classifier \n",
    "\"\"\"\n",
    "from torch import nn, optim\n",
    "from torch.autograd import Variable\n",
    "import torch.nn.functional as F\n",
    "\n",
    "class LeNet(nn.Module):\n",
    "    def __init__(self,  input_dim=1, output_dim=10):\n",
    "        super(LeNet, self,).__init__()\n",
    "        self.input_dim = input_dim\n",
    "        self.output_dim = output_dim\n",
    "        self.conv1 = nn.Conv2d(self.input_dim, 6, (5,5), padding=2)\n",
    "        self.conv2 = nn.Conv2d(6, 16, (5,5))\n",
    "        self.fc1   = nn.Linear(16*5*5, 120)\n",
    "        self.fc2   = nn.Linear(120, 84)\n",
    "        self.fc3   = nn.Linear(84, self.output_dim)\n",
    "        \n",
    "    def forward(self, x):\n",
    "\n",
    "        x = F.max_pool2d(F.relu(self.conv1(x)), (2,2))\n",
    "        x = F.max_pool2d(F.relu(self.conv2(x)), (2,2))\n",
    "        x = x.view(-1, self.num_flat_features(x))\n",
    "        x = F.relu(self.fc1(x))\n",
    "        x = F.relu(self.fc2(x))\n",
    "        x = self.fc3(x)\n",
    "        return x\n",
    "    \n",
    "    def num_flat_features(self, x):\n",
    "        size = x.size()[1:]\n",
    "        num_features = 1\n",
    "        for s in size:\n",
    "            num_features *= s\n",
    "        return num_features"
   ]
  },
  {
   "cell_type": "code",
   "execution_count": 4,
   "metadata": {
    "colab": {},
    "colab_type": "code",
    "id": "RKVNAZeItGNT"
   },
   "outputs": [],
   "source": [
    "# LeNet for Cifar10\n",
    "class LeNet_cifar10(nn.Module):\n",
    "    def __init__(self,  input_dim=1, output_dim=10):\n",
    "        super(LeNet_cifar10, self,).__init__()\n",
    "        self.input_dim = input_dim\n",
    "        self.output_dim = output_dim\n",
    "        self.conv1 = nn.Conv2d(self.input_dim, 6, (5,5), padding=2)\n",
    "        self.conv2 = nn.Conv2d(6, 16, (5,5))\n",
    "        self.fc1   = nn.Linear(16*6*6, 120)\n",
    "        self.fc2   = nn.Linear(120, 84)\n",
    "        self.fc3   = nn.Linear(84, self.output_dim)\n",
    "        \n",
    "    def forward(self, x):\n",
    "\n",
    "        x = F.max_pool2d(F.relu(self.conv1(x)), (2,2))\n",
    "        x = F.max_pool2d(F.relu(self.conv2(x)), (2,2))\n",
    "        x = x.view(-1, self.num_flat_features(x))\n",
    "        x = F.relu(self.fc1(x))\n",
    "        x = F.relu(self.fc2(x))\n",
    "        x = self.fc3(x)\n",
    "        return x\n",
    "    \n",
    "    def num_flat_features(self, x):\n",
    "        size = x.size()[1:]\n",
    "        num_features = 1\n",
    "        for s in size:\n",
    "            num_features *= s\n",
    "        return num_features"
   ]
  },
  {
   "cell_type": "code",
   "execution_count": 5,
   "metadata": {
    "colab": {},
    "colab_type": "code",
    "id": "0KdZXo0Yq4mh"
   },
   "outputs": [],
   "source": [
    "# function to initialize weights with xavier normal distribution\n",
    "def weight_inits(m):\n",
    "    if isinstance(m, nn.Conv2d):\n",
    "        torch.nn.init.xavier_normal_(m.weight)\n",
    "    \n",
    "    if isinstance(m, nn.Linear):\n",
    "        torch.nn.init.xavier_normal_(m.weight)"
   ]
  },
  {
   "cell_type": "code",
   "execution_count": null,
   "metadata": {
    "colab": {},
    "colab_type": "code",
    "id": "4TiMdBnjLHVT"
   },
   "outputs": [],
   "source": [
    "# a = LeNet_cifar10(input_dim=3)\n",
    "# from torchsummary import summary\n",
    "# summary(a, (3, 32,32))"
   ]
  },
  {
   "cell_type": "code",
   "execution_count": null,
   "metadata": {
    "colab": {},
    "colab_type": "code",
    "id": "dD8xxKzRT0r2"
   },
   "outputs": [],
   "source": []
  },
  {
   "cell_type": "code",
   "execution_count": null,
   "metadata": {
    "colab": {},
    "colab_type": "code",
    "id": "Il5RmAHkLqMQ"
   },
   "outputs": [],
   "source": []
  },
  {
   "cell_type": "code",
   "execution_count": 6,
   "metadata": {
    "colab": {},
    "colab_type": "code",
    "id": "Q568Sz4dsekR"
   },
   "outputs": [],
   "source": [
    "# Custom Model dataset class\n",
    "# input args: name: dataset name {mnist, fashionmnist, cifar10}, root: directory to download data\n",
    "# returns: train and test loader\n",
    "from torch.utils.data import Subset\n",
    "from PIL import Image\n",
    "from torchvision.datasets import MNIST, CIFAR10, FashionMNIST\n",
    "import torchvision.transforms as transforms\n",
    "\n",
    "classes = ('plane', 'car', 'bird', 'cat', 'deer', 'dog', 'frog', 'horse', 'ship', 'truck')\n",
    "\n",
    "class ModelDataset(Dataset):\n",
    "\n",
    "    def __init__(self, name: str, root='./data'):\n",
    "        super().__init__()\n",
    "        self.root = root\n",
    "        self.name = name\n",
    "\n",
    "        if name == 'cifar10':\n",
    "\n",
    "          self.classes = ('plane', 'car', 'bird', 'cat', 'deer', 'dog', 'frog', 'horse', 'ship', 'truck')\n",
    "          transform = transforms.Compose([transforms.ToTensor(),\n",
    "                                        transforms.Normalize((0.5, 0.5, 0.5), (0.5, 0.5, 0.5))])\n",
    "          # target_transform = transforms.Lambda(lambda x: convert_label(x))\n",
    "          \n",
    "          self.train_dataset = torchvision.datasets.CIFAR10(root=self.root, train=True, download=True, transform=transform)\n",
    "          self.train_loader = torch.utils.data.DataLoader(self.train_dataset, batch_size=64, shuffle=True, num_workers=2)\n",
    "\n",
    "          self.test_dataset = torchvision.datasets.CIFAR10(root=self.root, train=False, download=True, transform=transform)\n",
    "          self.test_loader = torch.utils.data.DataLoader(self.test_dataset, batch_size=64, shuffle=False, num_workers=2)\n",
    "\n",
    "          self.train_size = (len(self.train_dataset))\n",
    "          self.test_size = (len(self.test_dataset))\n",
    "\n",
    "\n",
    "        elif name == 'mnist':\n",
    "          self.classes = ('0', '1', '2', '3', '4', '5', '6', '7', '8', '9')\n",
    "          transform = transforms.Compose([transforms.ToTensor(),\n",
    "                                        ])\n",
    "          # target_transform = transforms.Lambda(lambda x: convert_label(x))\n",
    "          \n",
    "          self.train_dataset = torchvision.datasets.MNIST(root=self.root, train=True, download=True, transform=transform)\n",
    "          self.train_loader = torch.utils.data.DataLoader(self.train_dataset, batch_size=64, shuffle=True, num_workers=2)\n",
    "\n",
    "          self.test_dataset = torchvision.datasets.MNIST(root=self.root, train=False, download=True, transform=transform)\n",
    "          self.test_loader = torch.utils.data.DataLoader(self.test_dataset, batch_size=64, shuffle=False, num_workers=2)\n",
    "\n",
    "          self.train_size = (len(self.train_dataset))\n",
    "          self.test_size = (len(self.test_dataset))\n",
    "\n",
    "\n",
    "        elif name == 'FashionMNIST':\n",
    "          # self.classes = ('T-shirt/top', 'Trouser', 'Pullover', 'Dress', 'Coat', 'Sandal', 'Shirt', 'Sneaker', 'Bag', 'Ankle boot')\n",
    "          self.classes = ('T-shirt/top', 'Trouser', 'Pullover', 'Dress', 'Coat', 'Sandal', 'Shirt', 'Sneaker', 'Bag', 'Ankle boot')\n",
    "          transform = transforms.Compose([transforms.ToTensor(),\n",
    "                                        ])\n",
    "          # target_transform = transforms.Lambda(lambda x: convert_label(x))\n",
    "          \n",
    "          self.train_dataset = torchvision.datasets.FashionMNIST(root=self.root, train=True, download=True, transform=transform)\n",
    "          self.train_loader = torch.utils.data.DataLoader(self.train_dataset, batch_size=64, shuffle=True, num_workers=2)\n",
    "\n",
    "          self.test_dataset = torchvision.datasets.FashionMNIST(root=self.root, train=False, download=True, transform=transform)\n",
    "          self.test_loader = torch.utils.data.DataLoader(self.test_dataset, batch_size=64, shuffle=False, num_workers=2)\n",
    "\n",
    "          self.train_size = (len(self.train_dataset))\n",
    "          self.test_size = (len(self.test_dataset))\n"
   ]
  },
  {
   "cell_type": "code",
   "execution_count": 7,
   "metadata": {
    "colab": {},
    "colab_type": "code",
    "id": "tiRUzYcGq7_y"
   },
   "outputs": [],
   "source": [
    "def train_model(model, criterion, optimizer, data_loader, scheduler, num_epochs=20):\n",
    "    since = time.time()\n",
    "\n",
    "    best_model_wts = copy.deepcopy(model.state_dict())\n",
    "    best_acc = 0.0\n",
    "\n",
    "    for epoch in range(num_epochs):\n",
    "        print('Epoch {}/{}'.format(epoch, num_epochs - 1))\n",
    "        print('-' * 10)\n",
    "\n",
    "        # Each epoch has a training and validation phase\n",
    "        for phase in ['train']:\n",
    "            \n",
    "            if phase == 'train':\n",
    "                model.train()  # Set model to training mode\n",
    "                \n",
    "                running_loss = 0.0\n",
    "                running_corrects = 0\n",
    "                \n",
    "                for data in data_loader:\n",
    "                    inputs, labels = data\n",
    "                    inputs = inputs.to(device)\n",
    "                    labels = labels.to(device)\n",
    "                    \n",
    "                    \n",
    "                    optimizer.zero_grad()\n",
    "                    with torch.set_grad_enabled(True):\n",
    "                        outputs = model(inputs)\n",
    "                        \n",
    "                        _, preds = torch.max(outputs, 1)\n",
    "#                         print(preds, labels)\n",
    "                        loss = criterion(outputs, labels)\n",
    "                        \n",
    "                        loss.backward()\n",
    "                        optimizer.step()\n",
    "                    \n",
    "                    running_loss += loss.item() * inputs.size(0)\n",
    "                    running_corrects += torch.sum(preds == labels.data)\n",
    "                    \n",
    "                scheduler.step()\n",
    "                \n",
    "                epoch_loss = running_loss / train_size\n",
    "                epoch_acc = running_corrects.double() / train_size\n",
    "\n",
    "                print('{} Loss: {:.4f} Acc: {:.4f}'.format('Train', epoch_loss, epoch_acc))\n",
    "                    \n",
    "  \n",
    "\n",
    "    time_elapsed = time.time() - since\n",
    "    print('Training complete in {:.0f}m {:.0f}s'.format(time_elapsed // 60, time_elapsed % 60))\n",
    "    # print('Best val Acc: {:4f}'.format(best_acc))\n",
    "\n",
    "    # # load best model weights\n",
    "    # model.load_state_dict(best_model_wts)\n",
    "    # return model, best_acc"
   ]
  },
  {
   "cell_type": "code",
   "execution_count": 8,
   "metadata": {
    "colab": {},
    "colab_type": "code",
    "id": "8Z50BY9Brb6p"
   },
   "outputs": [],
   "source": [
    "def test_model(model, criterion, optimizer, data_loader):\n",
    "    model.eval()   # Set model to evaluate mode\n",
    "                \n",
    "    running_loss = 0.0\n",
    "    running_corrects = 0\n",
    "\n",
    "    for data in data_loader:\n",
    "        inputs, labels = data\n",
    "        inputs = inputs.to(device)\n",
    "        labels = labels.to(device)\n",
    "        optimizer.zero_grad()\n",
    "        with torch.set_grad_enabled(False):\n",
    "            outputs = model(inputs)\n",
    "            _, preds = torch.max(outputs, 1)\n",
    "\n",
    "            loss = criterion(outputs, labels)\n",
    "\n",
    "        running_loss += loss.item() * inputs.size(0)\n",
    "        running_corrects += torch.sum(preds == labels.data)\n",
    "\n",
    "    epoch_loss = running_loss / test_size\n",
    "    epoch_acc = running_corrects.double() / test_size\n",
    "\n",
    "    print('{} Loss: {:.4f} Acc: {:.4f}'.format('Val', epoch_loss, epoch_acc))"
   ]
  },
  {
   "cell_type": "code",
   "execution_count": 9,
   "metadata": {
    "colab": {},
    "colab_type": "code",
    "id": "GRBcJHVaxwZa"
   },
   "outputs": [],
   "source": [
    "# process function is kept as identity function\n",
    "def process(x):\n",
    "  return x\n"
   ]
  },
  {
   "cell_type": "code",
   "execution_count": 10,
   "metadata": {
    "colab": {},
    "colab_type": "code",
    "id": "htc2LyWNxcUa"
   },
   "outputs": [],
   "source": [
    "# sent x with noisy initialization with input shape\n",
    "# y is the label to predict\n",
    "# model: trained classifier model\n",
    "# alpha: total number of iteration/epoch\n",
    "# beta: early stopping criteria\n",
    "# gamma: minimum loss value to stop iteration\n",
    "# lamda: optimizer learning rate\n",
    "\n",
    "def MI_face(x, y, model, alpha=1500, beta=50, gamma=0.001, lamda=0.001, optim_name='SGD'):\n",
    "    model.eval()\n",
    "    if optim_name == 'Adam':\n",
    "      optimizer = optim.Adam([x], lr=gamma)\n",
    "      \n",
    "    else:\n",
    "      optimizer = optim.SGD([x], lr=gamma, momentum=0.9)\n",
    "\n",
    "    loss_list = torch.zeros([alpha])\n",
    "    for i in range(alpha):\n",
    "        optimizer.zero_grad()\n",
    "        logits = model(x)\n",
    "        # x = process(x)\n",
    "\n",
    "        prob = torch.softmax(logits, -1)\n",
    "        loss = y * prob.log()\n",
    "        loss = - loss.sum(-1).mean()\n",
    "        \n",
    "        loss.backward()\n",
    "        optimizer.step()\n",
    "\n",
    "        loss_list[i] = loss.item()\n",
    "        # print(loss.item())\n",
    "        if i > beta:\n",
    "          marker = True\n",
    "          for j in range((i - beta), i):\n",
    "            if loss_list[j] >= loss.item():\n",
    "              marker = False\n",
    "              break\n",
    "          if marker:\n",
    "            break\n",
    "        \n",
    "        if round(loss.item(),4) <= gamma:\n",
    "          break\n",
    "\n",
    "        if i % 100 == 0:\n",
    "            print('loss', loss.item())\n",
    "            \n",
    "    print(\"Image training finished...\")\n",
    "    print(\"total iteration:\", i)\n",
    "    \n",
    "    x = torch.tanh(x)\n",
    "    return x,y"
   ]
  },
  {
   "cell_type": "code",
   "execution_count": 11,
   "metadata": {
    "colab": {},
    "colab_type": "code",
    "id": "iTLxvFevrmP5"
   },
   "outputs": [],
   "source": [
    "def imshow(img):\n",
    "    img = img / 2 + 0.5     # unnormalize\n",
    "    npimg = img.numpy()\n",
    "    plt.imshow(np.transpose(npimg, (1, 2, 0)))\n",
    "    plt.show()\n",
    "\n",
    "\n",
    "def show_image(images):\n",
    "  pic = images.detach().numpy()\n",
    "  # print(pic.shape)\n",
    "  pic_1 = pic[0,0,:,:]\n",
    "  plt.imshow(pic_1, cmap='Greys', interpolation='nearest')"
   ]
  },
  {
   "cell_type": "code",
   "execution_count": 12,
   "metadata": {
    "colab": {},
    "colab_type": "code",
    "id": "j23-KdF6kuuY"
   },
   "outputs": [],
   "source": [
    "def save_model(model, model_save_name):\n",
    "  path = F\"/content/gdrive/My Drive/{model_save_name}\" \n",
    "  torch.save(model.state_dict(), path)\n",
    "  print(\"Model Saved...\")\n"
   ]
  },
  {
   "cell_type": "markdown",
   "metadata": {
    "colab_type": "text",
    "id": "4ALOEFhVxseA"
   },
   "source": [
    "**Section: For Fashion MNIST Dataset**"
   ]
  },
  {
   "cell_type": "code",
   "execution_count": null,
   "metadata": {
    "colab": {
     "base_uri": "https://localhost:8080/",
     "height": 34
    },
    "colab_type": "code",
    "id": "WthS9Z-R0SO6",
    "outputId": "8d8581ee-634c-4cf6-c2ef-f5225916fd6e"
   },
   "outputs": [
    {
     "name": "stdout",
     "output_type": "stream",
     "text": [
      "Dataset:  FashionMNIST\n"
     ]
    }
   ],
   "source": [
    "#Training Fashionmnist\n",
    "fashion_data = ModelDataset(name='FashionMNIST')\n",
    "print(\"Dataset: \", fashion_data.name)\n",
    "train_size = fashion_data.train_size\n",
    "test_size = fashion_data.test_size\n",
    "\n",
    "fashion_net = LeNet(input_dim=1)\n",
    "fashion_net.apply(weight_inits)\n",
    "criterion = nn.CrossEntropyLoss()\n",
    "\n",
    "# Observe that all parameters are being optimized\n",
    "optimizer_ft = optim.SGD(fashion_net.parameters(), lr=0.001)\n",
    "\n",
    "# Decay LR by a factor of 0.1 every 7 epochs\n",
    "exp_lr_scheduler = lr_scheduler.StepLR(optimizer_ft, step_size=20, gamma=0.1)"
   ]
  },
  {
   "cell_type": "code",
   "execution_count": null,
   "metadata": {
    "colab": {
     "base_uri": "https://localhost:8080/",
     "height": 112
    },
    "colab_type": "code",
    "id": "nYCe_dAWNQsy",
    "outputId": "5b52527d-2cfb-45b4-94b4-d43d6f3d4870"
   },
   "outputs": [
    {
     "data": {
      "image/png": "[encoded data removed]",
      "text/plain": [
       "<Figure size 432x288 with 1 Axes>"
      ]
     },
     "metadata": {
      "needs_background": "light",
      "tags": []
     },
     "output_type": "display_data"
    },
    {
     "name": "stdout",
     "output_type": "stream",
     "text": [
      "Ankle boot T-shirt/top Trouser Sneaker  Coat   Bag Sneaker   Bag\n"
     ]
    }
   ],
   "source": [
    "\n",
    "# get some random training images\n",
    "dataiter = iter(fashion_data.train_loader)\n",
    "images, labels = dataiter.next()\n",
    "# print(\"Labels: \", labels)\n",
    "\n",
    "# show images\n",
    "imshow(torchvision.utils.make_grid(images[0:8]))\n",
    "print(' '.join('%5s' % fashion_data.classes[labels[j]] for j in range(8)))"
   ]
  },
  {
   "cell_type": "code",
   "execution_count": null,
   "metadata": {
    "colab": {
     "base_uri": "https://localhost:8080/",
     "height": 790
    },
    "colab_type": "code",
    "id": "vZmub7o4uIrv",
    "outputId": "ed82ac56-98f6-4022-f035-caa23b992042"
   },
   "outputs": [
    {
     "name": "stdout",
     "output_type": "stream",
     "text": [
      "Epoch 0/14\n",
      "----------\n",
      "Train Loss: 2.2907 Acc: 0.0871\n",
      "Epoch 1/14\n",
      "----------\n",
      "Train Loss: 2.2092 Acc: 0.2858\n",
      "Epoch 2/14\n",
      "----------\n",
      "Train Loss: 1.6270 Acc: 0.5496\n",
      "Epoch 3/14\n",
      "----------\n",
      "Train Loss: 0.9063 Acc: 0.6794\n",
      "Epoch 4/14\n",
      "----------\n",
      "Train Loss: 0.7930 Acc: 0.7056\n",
      "Epoch 5/14\n",
      "----------\n",
      "Train Loss: 0.7443 Acc: 0.7255\n",
      "Epoch 6/14\n",
      "----------\n",
      "Train Loss: 0.7105 Acc: 0.7396\n",
      "Epoch 7/14\n",
      "----------\n",
      "Train Loss: 0.6813 Acc: 0.7535\n",
      "Epoch 8/14\n",
      "----------\n",
      "Train Loss: 0.6781 Acc: 0.7557\n",
      "Epoch 9/14\n",
      "----------\n",
      "Train Loss: 0.6752 Acc: 0.7564\n",
      "Epoch 10/14\n",
      "----------\n",
      "Train Loss: 0.6725 Acc: 0.7580\n",
      "Epoch 11/14\n",
      "----------\n",
      "Train Loss: 0.6698 Acc: 0.7592\n",
      "Epoch 12/14\n",
      "----------\n",
      "Train Loss: 0.6671 Acc: 0.7602\n",
      "Epoch 13/14\n",
      "----------\n",
      "Train Loss: 0.6645 Acc: 0.7610\n",
      "Epoch 14/14\n",
      "----------\n",
      "Train Loss: 0.6623 Acc: 0.7625\n",
      "Training complete in 4m 51s\n"
     ]
    }
   ],
   "source": [
    "\n",
    "train_model(fashion_net, criterion, optimizer_ft, fashion_data.train_loader, exp_lr_scheduler,\n",
    "                       num_epochs=15)"
   ]
  },
  {
   "cell_type": "code",
   "execution_count": null,
   "metadata": {
    "colab": {
     "base_uri": "https://localhost:8080/",
     "height": 50
    },
    "colab_type": "code",
    "id": "BG4bqDX0xDKB",
    "outputId": "c8ef3c00-b627-4cc1-e215-bef5e5d3c988"
   },
   "outputs": [
    {
     "name": "stdout",
     "output_type": "stream",
     "text": [
      "Validation loss and accuracy of Classifier Model in Fashion Mnist Data: \n",
      "Val Loss: 0.6828 Acc: 0.7560\n"
     ]
    }
   ],
   "source": [
    "print(\"Validation loss and accuracy of Classifier Model in Fashion Mnist Data: \")\n",
    "test_model(fashion_net, criterion, optimizer_ft, fashion_data.test_loader)"
   ]
  },
  {
   "cell_type": "code",
   "execution_count": null,
   "metadata": {
    "colab": {
     "base_uri": "https://localhost:8080/",
     "height": 34
    },
    "colab_type": "code",
    "id": "XO_DvDGjSFtF",
    "outputId": "b1581297-f30f-4796-cd2d-3aa349332820"
   },
   "outputs": [
    {
     "name": "stdout",
     "output_type": "stream",
     "text": [
      "Model Saved...\n"
     ]
    }
   ],
   "source": [
    "\n",
    "# save_model(fashion_net, 'fashion_net.pt')"
   ]
  },
  {
   "cell_type": "code",
   "execution_count": null,
   "metadata": {
    "colab": {
     "base_uri": "https://localhost:8080/",
     "height": 554
    },
    "colab_type": "code",
    "id": "JqCAKhdoyKWP",
    "outputId": "27f2e6b5-9790-4ae0-ab96-10df77323802"
   },
   "outputs": [
    {
     "name": "stdout",
     "output_type": "stream",
     "text": [
      "loss 3.380640745162964\n",
      "loss 1.2136609554290771\n",
      "loss 0.5900567173957825\n",
      "loss 0.3937450051307678\n",
      "loss 0.2928095757961273\n",
      "loss 0.22746196389198303\n",
      "loss 0.18509195744991302\n",
      "loss 0.15628354251384735\n",
      "loss 0.13519680500030518\n",
      "loss 0.1185157373547554\n",
      "loss 0.10358530282974243\n",
      "loss 0.09224777668714523\n",
      "loss 0.0830586776137352\n",
      "loss 0.07539775967597961\n",
      "loss 0.069245345890522\n",
      "loss 0.06427235156297684\n",
      "loss 0.05992158502340317\n",
      "loss 0.05614003539085388\n",
      "loss 0.05281130224466324\n",
      "loss 0.049893639981746674\n",
      "loss 0.04729137569665909\n",
      "loss 0.0449463352560997\n",
      "loss 0.042822446674108505\n",
      "loss 0.040890131145715714\n",
      "loss 0.03912528231739998\n",
      "loss 0.037508774548769\n",
      "loss 0.036081910133361816\n",
      "loss 0.03476346656680107\n",
      "loss 0.03356632962822914\n",
      "loss 0.032445862889289856\n",
      "Image training finished...\n",
      "total iteration: 2999\n"
     ]
    }
   ],
   "source": [
    "y = torch.FloatTensor([1, 0, 0, 0, 0, 0, 0, 0, 0, 0]) # change here the class prob\n",
    "x = torch.randn((1, 1, 28, 28), requires_grad=True)\n",
    "optimizer = optim.SGD([x], lr=0.001)\n",
    "images, labels = MI_face(x, y, fashion_net, alpha=3000)"
   ]
  },
  {
   "cell_type": "code",
   "execution_count": null,
   "metadata": {
    "colab": {},
    "colab_type": "code",
    "id": "Ax79LMZ1z4f8"
   },
   "outputs": [],
   "source": []
  },
  {
   "cell_type": "code",
   "execution_count": null,
   "metadata": {
    "colab": {},
    "colab_type": "code",
    "id": "xtZUqxBYYyxi"
   },
   "outputs": [],
   "source": []
  },
  {
   "cell_type": "code",
   "execution_count": null,
   "metadata": {
    "colab": {
     "base_uri": "https://localhost:8080/",
     "height": 332
    },
    "colab_type": "code",
    "id": "OGroUbyq1LvF",
    "outputId": "51e4b3ed-033d-469e-cd8a-1501a1dfd020"
   },
   "outputs": [
    {
     "name": "stdout",
     "output_type": "stream",
     "text": [
      "Trained Image True Label: T-shirt/top (0)\n",
      "Trained Image Predicted Label: T-shirt/top (0) \n",
      "Predicted probability for the class:  0.8084378838539124\n"
     ]
    },
    {
     "data": {
      "text/plain": [
       "<matplotlib.image.AxesImage at 0x7f3c90abb3c8>"
      ]
     },
     "execution_count": 189,
     "metadata": {
      "tags": []
     },
     "output_type": "execute_result"
    },
    {
     "data": {
      "image/png": "[encoded data removed]",
      "text/plain": [
       "<Figure size 432x288 with 1 Axes>"
      ]
     },
     "metadata": {
      "needs_background": "light",
      "tags": []
     },
     "output_type": "display_data"
    }
   ],
   "source": [
    "\n",
    "# test_net = LeNet()\n",
    "# test_net.load_state_dict(torch.load(F\"/content/gdrive/My Drive/fashion_net.pt\" ))\n",
    "# test_model(test_net, criterion, optimizer_ft, fashion_data.test_loader)\n",
    "print(\"Trained Image True Label: {} ({})\".format(fashion_data.classes[torch.argmax(labels).item()], torch.argmax(labels).item()))\n",
    "y_pred = fashion_net(images)\n",
    "prob = torch.softmax(y_pred, -1)\n",
    "print(\"Trained Image Predicted Label: {} ({}) \".format(fashion_data.classes[prob.argmax().item()], prob.argmax().item()))\n",
    "print(\"Predicted probability for the class: \", prob.max().item())\n",
    "pic = images.detach().numpy()\n",
    "pic_1 = pic[0,0,:,:]\n",
    "plt.imshow(pic_1, cmap='Greys', interpolation='nearest')"
   ]
  },
  {
   "cell_type": "markdown",
   "metadata": {
    "colab_type": "text",
    "id": "SOlAkCU-l8M1"
   },
   "source": [
    "**Section: For MNIST Dataset**"
   ]
  },
  {
   "cell_type": "code",
   "execution_count": null,
   "metadata": {
    "colab": {
     "base_uri": "https://localhost:8080/",
     "height": 34
    },
    "colab_type": "code",
    "id": "y0Py00amOyr1",
    "outputId": "1cb60bc5-2efc-4ca1-835b-092d1e5f324e"
   },
   "outputs": [
    {
     "name": "stdout",
     "output_type": "stream",
     "text": [
      "Dataset:  mnist\n"
     ]
    }
   ],
   "source": [
    "#Training mnist\n",
    "\n",
    "mnist_data = ModelDataset(name='mnist')\n",
    "print(\"Dataset: \", mnist_data.name)\n",
    "train_size = mnist_data.train_size\n",
    "test_size = mnist_data.test_size\n",
    "\n",
    "mnist_net = LeNet(input_dim=1)\n",
    "mnist_net.apply(weight_inits)\n",
    "criterion = nn.CrossEntropyLoss()\n",
    "\n",
    "# Observe that all parameters are being optimized\n",
    "optimizer_mnist = optim.SGD(mnist_net.parameters(), lr=0.001)\n",
    "\n",
    "# Decay LR by a factor of 0.1 every 7 epochs\n",
    "exp_lr_scheduler = lr_scheduler.StepLR(optimizer_mnist, step_size=15, gamma=0.1)"
   ]
  },
  {
   "cell_type": "code",
   "execution_count": null,
   "metadata": {
    "colab": {
     "base_uri": "https://localhost:8080/",
     "height": 1000
    },
    "colab_type": "code",
    "id": "F3kbR5sz_hOP",
    "outputId": "6c762cc2-344b-416d-93e0-8201d695a55f"
   },
   "outputs": [
    {
     "name": "stdout",
     "output_type": "stream",
     "text": [
      "Epoch 0/19\n",
      "----------\n",
      "Train Loss: 2.2897 Acc: 0.1611\n",
      "Epoch 1/19\n",
      "----------\n",
      "Train Loss: 2.2232 Acc: 0.3158\n",
      "Epoch 2/19\n",
      "----------\n",
      "Train Loss: 1.7837 Acc: 0.5710\n",
      "Epoch 3/19\n",
      "----------\n",
      "Train Loss: 0.7860 Acc: 0.7885\n",
      "Epoch 4/19\n",
      "----------\n",
      "Train Loss: 0.4812 Acc: 0.8600\n",
      "Epoch 5/19\n",
      "----------\n",
      "Train Loss: 0.3887 Acc: 0.8863\n",
      "Epoch 6/19\n",
      "----------\n",
      "Train Loss: 0.3381 Acc: 0.9001\n",
      "Epoch 7/19\n",
      "----------\n",
      "Train Loss: 0.3052 Acc: 0.9101\n",
      "Epoch 8/19\n",
      "----------\n",
      "Train Loss: 0.2809 Acc: 0.9167\n",
      "Epoch 9/19\n",
      "----------\n",
      "Train Loss: 0.2613 Acc: 0.9218\n",
      "Epoch 10/19\n",
      "----------\n",
      "Train Loss: 0.2456 Acc: 0.9272\n",
      "Epoch 11/19\n",
      "----------\n",
      "Train Loss: 0.2312 Acc: 0.9314\n",
      "Epoch 12/19\n",
      "----------\n",
      "Train Loss: 0.2195 Acc: 0.9349\n",
      "Epoch 13/19\n",
      "----------\n",
      "Train Loss: 0.2086 Acc: 0.9384\n",
      "Epoch 14/19\n",
      "----------\n",
      "Train Loss: 0.1988 Acc: 0.9407\n",
      "Epoch 15/19\n",
      "----------\n",
      "Train Loss: 0.1889 Acc: 0.9442\n",
      "Epoch 16/19\n",
      "----------\n",
      "Train Loss: 0.1878 Acc: 0.9446\n",
      "Epoch 17/19\n",
      "----------\n",
      "Train Loss: 0.1868 Acc: 0.9449\n",
      "Epoch 18/19\n",
      "----------\n",
      "Train Loss: 0.1858 Acc: 0.9452\n",
      "Epoch 19/19\n",
      "----------\n",
      "Train Loss: 0.1851 Acc: 0.9455\n",
      "Training complete in 6m 30s\n"
     ]
    }
   ],
   "source": [
    "train_model(mnist_net, criterion, optimizer_mnist, mnist_data.train_loader, exp_lr_scheduler,\n",
    "                       num_epochs=20)"
   ]
  },
  {
   "cell_type": "code",
   "execution_count": null,
   "metadata": {
    "colab": {
     "base_uri": "https://localhost:8080/",
     "height": 50
    },
    "colab_type": "code",
    "id": "iCrS5W7BBu-R",
    "outputId": "9c0e3f24-487f-4d8e-dfd9-6c542b4e938c"
   },
   "outputs": [
    {
     "name": "stdout",
     "output_type": "stream",
     "text": [
      "Validation loss and accuracy of Classifier Model in Mnist Data: \n",
      "Val Loss: 0.1735 Acc: 0.9492\n"
     ]
    }
   ],
   "source": [
    "print(\"Validation loss and accuracy of Classifier Model in Mnist Data: \")\n",
    "test_model(mnist_net, criterion, optimizer_mnist, mnist_data.test_loader)"
   ]
  },
  {
   "cell_type": "code",
   "execution_count": null,
   "metadata": {
    "colab": {
     "base_uri": "https://localhost:8080/",
     "height": 34
    },
    "colab_type": "code",
    "id": "Vr0PMW0lp1M4",
    "outputId": "adbba888-7187-414a-e8ec-4dea7768b60d"
   },
   "outputs": [
    {
     "name": "stdout",
     "output_type": "stream",
     "text": [
      "Model Saved...\n"
     ]
    }
   ],
   "source": [
    "# save_model(mnist_net, 'mnist_net.pt')"
   ]
  },
  {
   "cell_type": "code",
   "execution_count": null,
   "metadata": {
    "colab": {
     "base_uri": "https://localhost:8080/",
     "height": 554
    },
    "colab_type": "code",
    "id": "Yue5Ud4oB_eh",
    "outputId": "eaf0c5f3-e4d3-4f85-f11a-bfb427eb6ada"
   },
   "outputs": [
    {
     "name": "stdout",
     "output_type": "stream",
     "text": [
      "loss 8.67250919342041\n",
      "loss 4.471280097961426\n",
      "loss 1.1688482761383057\n",
      "loss 0.3108687996864319\n",
      "loss 0.16700004041194916\n",
      "loss 0.11527107656002045\n",
      "loss 0.08774729818105698\n",
      "loss 0.06830734759569168\n",
      "loss 0.05595236271619797\n",
      "loss 0.04742142930626869\n",
      "loss 0.041084807366132736\n",
      "loss 0.03593367710709572\n",
      "loss 0.031763218343257904\n",
      "loss 0.028478028252720833\n",
      "loss 0.02593529410660267\n",
      "loss 0.023842206224799156\n",
      "loss 0.022083705291152\n",
      "loss 0.020592808723449707\n",
      "loss 0.019295040518045425\n",
      "loss 0.018181337043642998\n",
      "loss 0.017166007310152054\n",
      "loss 0.016264624893665314\n",
      "loss 0.015453155152499676\n",
      "loss 0.014718495309352875\n",
      "loss 0.014070027507841587\n",
      "loss 0.013476471416652203\n",
      "loss 0.012929397635161877\n",
      "loss 0.012422935105860233\n",
      "loss 0.011959617026150227\n",
      "loss 0.011530639603734016\n",
      "Image training finished...\n",
      "total iteration: 2999\n"
     ]
    }
   ],
   "source": [
    "y = torch.FloatTensor([0.0, 1, 0, 0, 0, 0, 0, 0, 0, 0])\n",
    "x = torch.randn((1, 1, 28, 28), requires_grad=True)\n",
    "images, labels = MI_face(x, y, mnist_net, alpha=3000)"
   ]
  },
  {
   "cell_type": "code",
   "execution_count": null,
   "metadata": {
    "colab": {
     "base_uri": "https://localhost:8080/",
     "height": 332
    },
    "colab_type": "code",
    "id": "fQLLUhG1p-NP",
    "outputId": "c16fc300-3993-4eae-9dae-7cdf02c20ddd"
   },
   "outputs": [
    {
     "name": "stdout",
     "output_type": "stream",
     "text": [
      "Trained Image True Label: 1 (1)\n",
      "Trained Image Predicted Label: 1 (1) \n",
      "Predicted probability for the class:  0.8938592672348022\n"
     ]
    },
    {
     "data": {
      "text/plain": [
       "<matplotlib.image.AxesImage at 0x7f3c909f3c50>"
      ]
     },
     "execution_count": 199,
     "metadata": {
      "tags": []
     },
     "output_type": "execute_result"
    },
    {
     "data": {
      "image/png": "[encoded data removed]",
      "text/plain": [
       "<Figure size 432x288 with 1 Axes>"
      ]
     },
     "metadata": {
      "needs_background": "light",
      "tags": []
     },
     "output_type": "display_data"
    }
   ],
   "source": [
    "\n",
    "# test_net = LeNet()\n",
    "# test_net.load_state_dict(torch.load(F\"/content/gdrive/My Drive/mnist_net.pt\" ))\n",
    "# test_model(test_net, criterion, optimizer_ft, fashion_data.test_loader)\n",
    "print(\"Trained Image True Label: {} ({})\".format(mnist_data.classes[torch.argmax(labels).item()], torch.argmax(labels).item()))\n",
    "y_pred = mnist_net(images)\n",
    "prob = torch.softmax(y_pred, -1)\n",
    "print(\"Trained Image Predicted Label: {} ({}) \".format(mnist_data.classes[prob.argmax().item()], prob.argmax().item()))\n",
    "print(\"Predicted probability for the class: \", prob.max().item())\n",
    "pic = images.detach().numpy()\n",
    "pic_1 = pic[0,0,:,:]\n",
    "plt.imshow(pic_1, cmap='Greys', interpolation='nearest')"
   ]
  },
  {
   "cell_type": "markdown",
   "metadata": {
    "colab_type": "text",
    "id": "9izJnmvqsG6T"
   },
   "source": [
    "**Section: For Cifar10 Dataset**"
   ]
  },
  {
   "cell_type": "code",
   "execution_count": 13,
   "metadata": {
    "colab": {
     "base_uri": "https://localhost:8080/",
     "height": 123,
     "referenced_widgets": [
      "666395230db54fcdbf53d85fcc4470f1",
      "6c445ecaad354f64a08630502dd00c95",
      "896bbbc10a5d4ca8a189a7ac291008de",
      "3cdec0819cef45d685257a2b06d56757",
      "eaaecda61a0b4b58aefab12077d37ce3",
      "00b583c8830b46de82a27dbe67a515cc",
      "7cb743f4117548e7aa94bf91be559430",
      "d45fea622a384f29a78f48220ba0cfe0"
     ]
    },
    "colab_type": "code",
    "id": "K9Se5JZQDRPI",
    "outputId": "fe7b0f7d-8e5b-4c69-ff61-aa6f7562bfeb"
   },
   "outputs": [
    {
     "name": "stdout",
     "output_type": "stream",
     "text": [
      "Downloading https://www.cs.toronto.edu/~kriz/cifar-10-python.tar.gz to ./data/cifar-10-python.tar.gz\n"
     ]
    },
    {
     "data": {
      "application/vnd.jupyter.widget-view+json": {
       "model_id": "666395230db54fcdbf53d85fcc4470f1",
       "version_major": 2,
       "version_minor": 0
      },
      "text/plain": [
       "HBox(children=(FloatProgress(value=1.0, bar_style='info', max=1.0), HTML(value='')))"
      ]
     },
     "metadata": {
      "tags": []
     },
     "output_type": "display_data"
    },
    {
     "name": "stdout",
     "output_type": "stream",
     "text": [
      "Extracting ./data/cifar-10-python.tar.gz to ./data\n",
      "Files already downloaded and verified\n",
      "Dataset:  cifar10\n"
     ]
    }
   ],
   "source": [
    "#Training CIFAR10\n",
    "\n",
    "cifar10_data = ModelDataset(name='cifar10')\n",
    "print(\"Dataset: \", cifar10_data.name)\n",
    "train_size = cifar10_data.train_size\n",
    "test_size = cifar10_data.test_size\n",
    "\n",
    "cifar_net = LeNet_cifar10(input_dim=3)\n",
    "cifar_net.apply(weight_inits)\n",
    "criterion = nn.CrossEntropyLoss()\n",
    "\n",
    "# Observe that all parameters are being optimized\n",
    "optimizer_cifar = optim.SGD(cifar_net.parameters(), lr=0.001)\n",
    "\n",
    "# Decay LR by a factor of 0.1 every 7 epochs\n",
    "exp_lr_scheduler = lr_scheduler.StepLR(optimizer_cifar, step_size=35, gamma=0.1)"
   ]
  },
  {
   "cell_type": "code",
   "execution_count": 14,
   "metadata": {
    "colab": {
     "base_uri": "https://localhost:8080/",
     "height": 1000
    },
    "colab_type": "code",
    "id": "_cyrCiYwuE7y",
    "outputId": "a2b8daea-f662-451e-edd5-6edbd7339e15"
   },
   "outputs": [
    {
     "name": "stdout",
     "output_type": "stream",
     "text": [
      "Epoch 0/49\n",
      "----------\n",
      "Train Loss: 2.2947 Acc: 0.1115\n",
      "Epoch 1/49\n",
      "----------\n",
      "Train Loss: 2.2560 Acc: 0.1507\n",
      "Epoch 2/49\n",
      "----------\n",
      "Train Loss: 2.1879 Acc: 0.1825\n",
      "Epoch 3/49\n",
      "----------\n",
      "Train Loss: 2.0989 Acc: 0.2436\n",
      "Epoch 4/49\n",
      "----------\n",
      "Train Loss: 2.0123 Acc: 0.2759\n",
      "Epoch 5/49\n",
      "----------\n",
      "Train Loss: 1.9446 Acc: 0.2989\n",
      "Epoch 6/49\n",
      "----------\n",
      "Train Loss: 1.8907 Acc: 0.3196\n",
      "Epoch 7/49\n",
      "----------\n",
      "Train Loss: 1.8416 Acc: 0.3389\n",
      "Epoch 8/49\n",
      "----------\n",
      "Train Loss: 1.7914 Acc: 0.3569\n",
      "Epoch 9/49\n",
      "----------\n",
      "Train Loss: 1.7407 Acc: 0.3743\n",
      "Epoch 10/49\n",
      "----------\n",
      "Train Loss: 1.6914 Acc: 0.3898\n",
      "Epoch 11/49\n",
      "----------\n",
      "Train Loss: 1.6495 Acc: 0.4047\n",
      "Epoch 12/49\n",
      "----------\n",
      "Train Loss: 1.6147 Acc: 0.4154\n",
      "Epoch 13/49\n",
      "----------\n",
      "Train Loss: 1.5864 Acc: 0.4281\n",
      "Epoch 14/49\n",
      "----------\n",
      "Train Loss: 1.5614 Acc: 0.4369\n",
      "Epoch 15/49\n",
      "----------\n",
      "Train Loss: 1.5402 Acc: 0.4451\n",
      "Epoch 16/49\n",
      "----------\n",
      "Train Loss: 1.5194 Acc: 0.4520\n",
      "Epoch 17/49\n",
      "----------\n",
      "Train Loss: 1.5006 Acc: 0.4598\n",
      "Epoch 18/49\n",
      "----------\n",
      "Train Loss: 1.4825 Acc: 0.4678\n",
      "Epoch 19/49\n",
      "----------\n",
      "Train Loss: 1.4655 Acc: 0.4728\n",
      "Epoch 20/49\n",
      "----------\n",
      "Train Loss: 1.4499 Acc: 0.4807\n",
      "Epoch 21/49\n",
      "----------\n",
      "Train Loss: 1.4358 Acc: 0.4842\n",
      "Epoch 22/49\n",
      "----------\n",
      "Train Loss: 1.4226 Acc: 0.4904\n",
      "Epoch 23/49\n",
      "----------\n",
      "Train Loss: 1.4105 Acc: 0.4942\n",
      "Epoch 24/49\n",
      "----------\n",
      "Train Loss: 1.3991 Acc: 0.4978\n",
      "Epoch 25/49\n",
      "----------\n",
      "Train Loss: 1.3878 Acc: 0.5033\n",
      "Epoch 26/49\n",
      "----------\n",
      "Train Loss: 1.3775 Acc: 0.5066\n",
      "Epoch 27/49\n",
      "----------\n",
      "Train Loss: 1.3692 Acc: 0.5097\n",
      "Epoch 28/49\n",
      "----------\n",
      "Train Loss: 1.3598 Acc: 0.5143\n",
      "Epoch 29/49\n",
      "----------\n",
      "Train Loss: 1.3513 Acc: 0.5166\n",
      "Epoch 30/49\n",
      "----------\n",
      "Train Loss: 1.3435 Acc: 0.5196\n",
      "Epoch 31/49\n",
      "----------\n",
      "Train Loss: 1.3349 Acc: 0.5254\n",
      "Epoch 32/49\n",
      "----------\n",
      "Train Loss: 1.3277 Acc: 0.5277\n",
      "Epoch 33/49\n",
      "----------\n",
      "Train Loss: 1.3201 Acc: 0.5306\n",
      "Epoch 34/49\n",
      "----------\n",
      "Train Loss: 1.3125 Acc: 0.5334\n",
      "Epoch 35/49\n",
      "----------\n",
      "Train Loss: 1.3000 Acc: 0.5399\n",
      "Epoch 36/49\n",
      "----------\n",
      "Train Loss: 1.2983 Acc: 0.5403\n",
      "Epoch 37/49\n",
      "----------\n",
      "Train Loss: 1.2976 Acc: 0.5407\n",
      "Epoch 38/49\n",
      "----------\n",
      "Train Loss: 1.2968 Acc: 0.5403\n",
      "Epoch 39/49\n",
      "----------\n",
      "Train Loss: 1.2960 Acc: 0.5410\n",
      "Epoch 40/49\n",
      "----------\n",
      "Train Loss: 1.2951 Acc: 0.5410\n",
      "Epoch 41/49\n",
      "----------\n",
      "Train Loss: 1.2943 Acc: 0.5424\n",
      "Epoch 42/49\n",
      "----------\n",
      "Train Loss: 1.2936 Acc: 0.5423\n",
      "Epoch 43/49\n",
      "----------\n",
      "Train Loss: 1.2930 Acc: 0.5421\n",
      "Epoch 44/49\n",
      "----------\n",
      "Train Loss: 1.2923 Acc: 0.5431\n",
      "Epoch 45/49\n",
      "----------\n",
      "Train Loss: 1.2915 Acc: 0.5428\n",
      "Epoch 46/49\n",
      "----------\n",
      "Train Loss: 1.2908 Acc: 0.5441\n",
      "Epoch 47/49\n",
      "----------\n",
      "Train Loss: 1.2901 Acc: 0.5434\n",
      "Epoch 48/49\n",
      "----------\n",
      "Train Loss: 1.2893 Acc: 0.5436\n",
      "Epoch 49/49\n",
      "----------\n",
      "Train Loss: 1.2887 Acc: 0.5434\n",
      "Training complete in 19m 29s\n"
     ]
    }
   ],
   "source": [
    "train_model(cifar_net, criterion, optimizer_cifar, cifar10_data.train_loader, exp_lr_scheduler,\n",
    "                       num_epochs=50)"
   ]
  },
  {
   "cell_type": "code",
   "execution_count": 15,
   "metadata": {
    "colab": {
     "base_uri": "https://localhost:8080/",
     "height": 54
    },
    "colab_type": "code",
    "id": "6RZ6Yk9rv5Ig",
    "outputId": "58d36c43-13d1-41c0-aae8-7c9a95c67554"
   },
   "outputs": [
    {
     "name": "stdout",
     "output_type": "stream",
     "text": [
      "Validation loss and accuracy of Classifier Model in CIFAR10 Data: \n",
      "Val Loss: 1.3120 Acc: 0.5270\n"
     ]
    }
   ],
   "source": [
    "print(\"Validation loss and accuracy of Classifier Model in CIFAR10 Data: \")\n",
    "test_model(cifar_net, criterion, optimizer_cifar, cifar10_data.test_loader)"
   ]
  },
  {
   "cell_type": "code",
   "execution_count": null,
   "metadata": {
    "colab": {
     "base_uri": "https://localhost:8080/",
     "height": 34
    },
    "colab_type": "code",
    "id": "Hts_33o8wGuA",
    "outputId": "2f6ac87b-0662-4c9d-bda4-f8c3cbecf644"
   },
   "outputs": [
    {
     "name": "stdout",
     "output_type": "stream",
     "text": [
      "Model Saved...\n"
     ]
    }
   ],
   "source": [
    "# save_model(cifar_net, 'cifar_net.pt')"
   ]
  },
  {
   "cell_type": "code",
   "execution_count": 16,
   "metadata": {
    "colab": {
     "base_uri": "https://localhost:8080/",
     "height": 613
    },
    "colab_type": "code",
    "id": "i_GGC-BYwUGM",
    "outputId": "d8954fdb-6490-4439-937f-80eb7e9b7b80"
   },
   "outputs": [
    {
     "name": "stdout",
     "output_type": "stream",
     "text": [
      "loss 19.530874252319336\n",
      "loss 15.331987380981445\n",
      "loss 11.13714599609375\n",
      "loss 6.864284515380859\n",
      "loss 4.033768653869629\n",
      "loss 2.1894261837005615\n",
      "loss 1.1127148866653442\n",
      "loss 0.623156726360321\n",
      "loss 0.4061318337917328\n",
      "loss 0.29495102167129517\n",
      "loss 0.228463813662529\n",
      "loss 0.185563862323761\n",
      "loss 0.1561988741159439\n",
      "loss 0.1346406489610672\n",
      "loss 0.11821931600570679\n",
      "loss 0.10535789281129837\n",
      "loss 0.095077745616436\n",
      "loss 0.08664579689502716\n",
      "loss 0.07960590720176697\n",
      "loss 0.0736868754029274\n",
      "loss 0.06868579983711243\n",
      "loss 0.06448905915021896\n",
      "loss 0.06079727038741112\n",
      "loss 0.05752928555011749\n",
      "loss 0.054609619081020355\n",
      "loss 0.051970645785331726\n",
      "loss 0.04957321658730507\n",
      "loss 0.047393929213285446\n",
      "loss 0.045408979058265686\n",
      "loss 0.04358807951211929\n",
      "Image training finished...\n",
      "total iteration: 2999\n"
     ]
    }
   ],
   "source": [
    "y = torch.FloatTensor([0.0, 0, 1, 0, 0, 0, 0, 0, 0, 0])\n",
    "x = torch.randn((1, 3, 32, 32), requires_grad=True)\n",
    "images, labels = MI_face(x, y, cifar_net, alpha=3000)"
   ]
  },
  {
   "cell_type": "code",
   "execution_count": 17,
   "metadata": {
    "colab": {
     "base_uri": "https://localhost:8080/",
     "height": 340
    },
    "colab_type": "code",
    "id": "FEOVGzw5wiNy",
    "outputId": "88c38d18-010e-4e29-895d-e0fad8096b53"
   },
   "outputs": [
    {
     "name": "stdout",
     "output_type": "stream",
     "text": [
      "Trained Image True Label: bird (2)\n",
      "Trained Image Predicted Label: bird (2) \n",
      "Predicted probability for the class:  0.6390789151191711\n"
     ]
    },
    {
     "data": {
      "text/plain": [
       "<matplotlib.image.AxesImage at 0x7f8bf7810e10>"
      ]
     },
     "execution_count": 17,
     "metadata": {
      "tags": []
     },
     "output_type": "execute_result"
    },
    {
     "data": {
      "image/png": "[encoded data removed]",
      "text/plain": [
       "<Figure size 432x288 with 1 Axes>"
      ]
     },
     "metadata": {
      "needs_background": "light",
      "tags": []
     },
     "output_type": "display_data"
    }
   ],
   "source": [
    " \n",
    "# cifar_net = LeNet_cifar10()\n",
    "# cifar_net.load_state_dict(torch.load(F\"/content/gdrive/My Drive/cifar_net.pt\" ))\n",
    "# test_model(cifar_net, criterion, optimizer_ft, cifar10_data.test_loader)\n",
    "print(\"Trained Image True Label: {} ({})\".format(cifar10_data.classes[torch.argmax(labels).item()], torch.argmax(labels).item()))\n",
    "y_pred = cifar_net(images)\n",
    "prob = torch.softmax(y_pred, -1)\n",
    "print(\"Trained Image Predicted Label: {} ({}) \".format(cifar10_data.classes[prob.argmax().item()], prob.argmax().item()))\n",
    "print(\"Predicted probability for the class: \", prob.max().item())\n",
    "pic = images.detach().numpy()\n",
    "pic_1 = pic[0,0,:,:]\n",
    "plt.imshow(pic_1, cmap='Greys', interpolation='nearest')"
   ]
  }
 ],
 "metadata": {
  "colab": {
   "collapsed_sections": [],
   "name": "model_inversion_final.ipynb",
   "provenance": []
  },
  "kernelspec": {
   "display_name": "Python 3",
   "language": "python",
   "name": "python3"
  },
  "language_info": {
   "codemirror_mode": {
    "name": "ipython",
    "version": 3
   },
   "file_extension": ".py",
   "mimetype": "text/x-python",
   "name": "python",
   "nbconvert_exporter": "python",
   "pygments_lexer": "ipython3",
   "version": "3.8.3"
  },
  "widgets": {
   "application/vnd.jupyter.widget-state+json": {
    "00b583c8830b46de82a27dbe67a515cc": {
     "model_module": "@jupyter-widgets/base",
     "model_name": "LayoutModel",
     "state": {
      "_model_module": "@jupyter-widgets/base",
      "_model_module_version": "1.2.0",
      "_model_name": "LayoutModel",
      "_view_count": null,
      "_view_module": "@jupyter-widgets/base",
      "_view_module_version": "1.2.0",
      "_view_name": "LayoutView",
      "align_content": null,
      "align_items": null,
      "align_self": null,
      "border": null,
      "bottom": null,
      "display": null,
      "flex": null,
      "flex_flow": null,
      "grid_area": null,
      "grid_auto_columns": null,
      "grid_auto_flow": null,
      "grid_auto_rows": null,
      "grid_column": null,
      "grid_gap": null,
      "grid_row": null,
      "grid_template_areas": null,
      "grid_template_columns": null,
      "grid_template_rows": null,
      "height": null,
      "justify_content": null,
      "justify_items": null,
      "left": null,
      "margin": null,
      "max_height": null,
      "max_width": null,
      "min_height": null,
      "min_width": null,
      "object_fit": null,
      "object_position": null,
      "order": null,
      "overflow": null,
      "overflow_x": null,
      "overflow_y": null,
      "padding": null,
      "right": null,
      "top": null,
      "visibility": null,
      "width": null
     }
    },
    "3cdec0819cef45d685257a2b06d56757": {
     "model_module": "@jupyter-widgets/controls",
     "model_name": "HTMLModel",
     "state": {
      "_dom_classes": [],
      "_model_module": "@jupyter-widgets/controls",
      "_model_module_version": "1.5.0",
      "_model_name": "HTMLModel",
      "_view_count": null,
      "_view_module": "@jupyter-widgets/controls",
      "_view_module_version": "1.5.0",
      "_view_name": "HTMLView",
      "description": "",
      "description_tooltip": null,
      "layout": "IPY_MODEL_d45fea622a384f29a78f48220ba0cfe0",
      "placeholder": "​",
      "style": "IPY_MODEL_7cb743f4117548e7aa94bf91be559430",
      "value": " 170500096/? [00:20&lt;00:00, 23427291.22it/s]"
     }
    },
    "666395230db54fcdbf53d85fcc4470f1": {
     "model_module": "@jupyter-widgets/controls",
     "model_name": "HBoxModel",
     "state": {
      "_dom_classes": [],
      "_model_module": "@jupyter-widgets/controls",
      "_model_module_version": "1.5.0",
      "_model_name": "HBoxModel",
      "_view_count": null,
      "_view_module": "@jupyter-widgets/controls",
      "_view_module_version": "1.5.0",
      "_view_name": "HBoxView",
      "box_style": "",
      "children": [
       "IPY_MODEL_896bbbc10a5d4ca8a189a7ac291008de",
       "IPY_MODEL_3cdec0819cef45d685257a2b06d56757"
      ],
      "layout": "IPY_MODEL_6c445ecaad354f64a08630502dd00c95"
     }
    },
    "6c445ecaad354f64a08630502dd00c95": {
     "model_module": "@jupyter-widgets/base",
     "model_name": "LayoutModel",
     "state": {
      "_model_module": "@jupyter-widgets/base",
      "_model_module_version": "1.2.0",
      "_model_name": "LayoutModel",
      "_view_count": null,
      "_view_module": "@jupyter-widgets/base",
      "_view_module_version": "1.2.0",
      "_view_name": "LayoutView",
      "align_content": null,
      "align_items": null,
      "align_self": null,
      "border": null,
      "bottom": null,
      "display": null,
      "flex": null,
      "flex_flow": null,
      "grid_area": null,
      "grid_auto_columns": null,
      "grid_auto_flow": null,
      "grid_auto_rows": null,
      "grid_column": null,
      "grid_gap": null,
      "grid_row": null,
      "grid_template_areas": null,
      "grid_template_columns": null,
      "grid_template_rows": null,
      "height": null,
      "justify_content": null,
      "justify_items": null,
      "left": null,
      "margin": null,
      "max_height": null,
      "max_width": null,
      "min_height": null,
      "min_width": null,
      "object_fit": null,
      "object_position": null,
      "order": null,
      "overflow": null,
      "overflow_x": null,
      "overflow_y": null,
      "padding": null,
      "right": null,
      "top": null,
      "visibility": null,
      "width": null
     }
    },
    "7cb743f4117548e7aa94bf91be559430": {
     "model_module": "@jupyter-widgets/controls",
     "model_name": "DescriptionStyleModel",
     "state": {
      "_model_module": "@jupyter-widgets/controls",
      "_model_module_version": "1.5.0",
      "_model_name": "DescriptionStyleModel",
      "_view_count": null,
      "_view_module": "@jupyter-widgets/base",
      "_view_module_version": "1.2.0",
      "_view_name": "StyleView",
      "description_width": ""
     }
    },
    "896bbbc10a5d4ca8a189a7ac291008de": {
     "model_module": "@jupyter-widgets/controls",
     "model_name": "FloatProgressModel",
     "state": {
      "_dom_classes": [],
      "_model_module": "@jupyter-widgets/controls",
      "_model_module_version": "1.5.0",
      "_model_name": "FloatProgressModel",
      "_view_count": null,
      "_view_module": "@jupyter-widgets/controls",
      "_view_module_version": "1.5.0",
      "_view_name": "ProgressView",
      "bar_style": "info",
      "description": "",
      "description_tooltip": null,
      "layout": "IPY_MODEL_00b583c8830b46de82a27dbe67a515cc",
      "max": 1,
      "min": 0,
      "orientation": "horizontal",
      "style": "IPY_MODEL_eaaecda61a0b4b58aefab12077d37ce3",
      "value": 1
     }
    },
    "d45fea622a384f29a78f48220ba0cfe0": {
     "model_module": "@jupyter-widgets/base",
     "model_name": "LayoutModel",
     "state": {
      "_model_module": "@jupyter-widgets/base",
      "_model_module_version": "1.2.0",
      "_model_name": "LayoutModel",
      "_view_count": null,
      "_view_module": "@jupyter-widgets/base",
      "_view_module_version": "1.2.0",
      "_view_name": "LayoutView",
      "align_content": null,
      "align_items": null,
      "align_self": null,
      "border": null,
      "bottom": null,
      "display": null,
      "flex": null,
      "flex_flow": null,
      "grid_area": null,
      "grid_auto_columns": null,
      "grid_auto_flow": null,
      "grid_auto_rows": null,
      "grid_column": null,
      "grid_gap": null,
      "grid_row": null,
      "grid_template_areas": null,
      "grid_template_columns": null,
      "grid_template_rows": null,
      "height": null,
      "justify_content": null,
      "justify_items": null,
      "left": null,
      "margin": null,
      "max_height": null,
      "max_width": null,
      "min_height": null,
      "min_width": null,
      "object_fit": null,
      "object_position": null,
      "order": null,
      "overflow": null,
      "overflow_x": null,
      "overflow_y": null,
      "padding": null,
      "right": null,
      "top": null,
      "visibility": null,
      "width": null
     }
    },
    "eaaecda61a0b4b58aefab12077d37ce3": {
     "model_module": "@jupyter-widgets/controls",
     "model_name": "ProgressStyleModel",
     "state": {
      "_model_module": "@jupyter-widgets/controls",
      "_model_module_version": "1.5.0",
      "_model_name": "ProgressStyleModel",
      "_view_count": null,
      "_view_module": "@jupyter-widgets/base",
      "_view_module_version": "1.2.0",
      "_view_name": "StyleView",
      "bar_color": null,
      "description_width": "initial"
     }
    }
   }
  }
 },
 "nbformat": 4,
 "nbformat_minor": 1
}
