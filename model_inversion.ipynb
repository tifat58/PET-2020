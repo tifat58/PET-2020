{
  "nbformat": 4,
  "nbformat_minor": 0,
  "metadata": {
    "colab": {
      "name": "model_inversion.ipynb",
      "provenance": [],
      "authorship_tag": "ABX9TyNPzbXZLAVyt4vP8jwZd1Hn",
      "include_colab_link": true
    },
    "kernelspec": {
      "name": "python3",
      "display_name": "Python 3"
    }
  },
  "cells": [
    {
      "cell_type": "markdown",
      "metadata": {
        "id": "view-in-github",
        "colab_type": "text"
      },
      "source": [
        "<a href=\"https://colab.research.google.com/github/tifat58/PET-2020/blob/master/model_inversion.ipynb\" target=\"_parent\"><img src=\"https://colab.research.google.com/assets/colab-badge.svg\" alt=\"Open In Colab\"/></a>"
      ]
    },
    {
      "cell_type": "code",
      "metadata": {
        "id": "pqXCFobXn8Nm",
        "colab_type": "code",
        "colab": {}
      },
      "source": [
        "from __future__ import print_function, division\n",
        "\n",
        "import torch\n",
        "import torch.nn as nn\n",
        "import torch.optim as optim\n",
        "from torch.optim import lr_scheduler\n",
        "import numpy as np\n",
        "import torchvision\n",
        "from torchvision import datasets, models, transforms\n",
        "from torch.utils.data import Subset, Dataset, DataLoader\n",
        "import matplotlib.pyplot as plt\n",
        "import time\n",
        "import os\n",
        "import copy\n",
        "import pandas as pd\n",
        "import random\n",
        "import torchvision.transforms as transforms\n",
        "\n",
        "plt.ion()   # interactive mode\n",
        "device = torch.device(\"cuda:0\" if torch.cuda.is_available() else \"cpu\")"
      ],
      "execution_count": 2,
      "outputs": []
    },
    {
      "cell_type": "code",
      "metadata": {
        "id": "Q9pWJZ-lqzvh",
        "colab_type": "code",
        "colab": {}
      },
      "source": [
        "\n",
        "\"\"\" LeNet architecture implementation\n",
        "\"\"\"\n",
        "from torch import nn, optim\n",
        "from torch.autograd import Variable\n",
        "import torch.nn.functional as F\n",
        "\n",
        "class LeNet(nn.Module):\n",
        "    def __init__(self):\n",
        "        super(LeNet, self).__init__()\n",
        "        self.conv1 = nn.Conv2d(1, 6, (5,5), padding=2)\n",
        "        self.conv2 = nn.Conv2d(6, 16, (5,5))\n",
        "        self.fc1   = nn.Linear(16*5*5, 120)\n",
        "        self.fc2   = nn.Linear(120, 84)\n",
        "        self.fc3   = nn.Linear(84, 10)\n",
        "        \n",
        "    def forward(self, x):\n",
        "        x = F.relu(self.conv1(x))\n",
        "        x = F.max_pool2d(x, (2,2))\n",
        "#         x = F.max_pool2d(F.relu(self.conv1(x)), (2,2))\n",
        "        x = F.max_pool2d(F.relu(self.conv2(x)), (2,2))\n",
        "        x = x.view(-1, self.num_flat_features(x))\n",
        "        x = F.relu(self.fc1(x))\n",
        "        x = F.relu(self.fc2(x))\n",
        "        x = self.fc3(x)\n",
        "        return x\n",
        "    \n",
        "    def num_flat_features(self, x):\n",
        "        size = x.size()[1:]\n",
        "        num_features = 1\n",
        "        for s in size:\n",
        "            num_features *= s\n",
        "        return num_features"
      ],
      "execution_count": 3,
      "outputs": []
    },
    {
      "cell_type": "code",
      "metadata": {
        "id": "0KdZXo0Yq4mh",
        "colab_type": "code",
        "colab": {}
      },
      "source": [
        "def weight_inits(m):\n",
        "    if isinstance(m, nn.Conv2d):\n",
        "        torch.nn.init.xavier_normal_(m.weight)\n",
        "    \n",
        "    if isinstance(m, nn.Linear):\n",
        "        torch.nn.init.xavier_normal_(m.weight)"
      ],
      "execution_count": 4,
      "outputs": []
    },
    {
      "cell_type": "code",
      "metadata": {
        "id": "tiRUzYcGq7_y",
        "colab_type": "code",
        "colab": {}
      },
      "source": [
        "def train_model(model, criterion, optimizer, data_loader, scheduler, num_epochs=20):\n",
        "    since = time.time()\n",
        "\n",
        "    best_model_wts = copy.deepcopy(model.state_dict())\n",
        "    best_acc = 0.0\n",
        "\n",
        "    for epoch in range(num_epochs):\n",
        "        print('Epoch {}/{}'.format(epoch, num_epochs - 1))\n",
        "        print('-' * 10)\n",
        "\n",
        "        # Each epoch has a training and validation phase\n",
        "        for phase in ['train']:\n",
        "            \n",
        "            if phase == 'train':\n",
        "                model.train()  # Set model to training mode\n",
        "                \n",
        "                running_loss = 0.0\n",
        "                running_corrects = 0\n",
        "                \n",
        "                for data in data_loader:\n",
        "                    inputs, labels = data\n",
        "                    inputs = inputs.to(device)\n",
        "                    labels = labels.to(device)\n",
        "                    \n",
        "                    \n",
        "                    optimizer.zero_grad()\n",
        "                    with torch.set_grad_enabled(True):\n",
        "                        outputs = model(inputs)\n",
        "                        \n",
        "                        _, preds = torch.max(outputs, 1)\n",
        "#                         print(preds, labels)\n",
        "                        loss = criterion(outputs, labels)\n",
        "                        \n",
        "                        loss.backward()\n",
        "                        optimizer.step()\n",
        "                    \n",
        "                    running_loss += loss.item() * inputs.size(0)\n",
        "                    running_corrects += torch.sum(preds == labels.data)\n",
        "                    \n",
        "                scheduler.step()\n",
        "                \n",
        "                epoch_loss = running_loss / train_size\n",
        "                epoch_acc = running_corrects.double() / train_size\n",
        "\n",
        "                print('{} Loss: {:.4f} Acc: {:.4f}'.format('Train', epoch_loss, epoch_acc))\n",
        "                    \n",
        "    #         else:\n",
        "                \n",
        "    #             model.eval()   # Set model to evaluate mode\n",
        "                \n",
        "    #             running_loss = 0.0\n",
        "    #             running_corrects = 0\n",
        "                \n",
        "    #             for data in test_loader:\n",
        "    #                 inputs, labels, idx = data\n",
        "    #                 inputs = inputs.to(device)\n",
        "    #                 labels = labels.to(device)\n",
        "    #                 optimizer.zero_grad()\n",
        "    #                 with torch.set_grad_enabled(False):\n",
        "    #                     outputs = model(inputs)\n",
        "    #                     _, preds = torch.max(outputs, 1)\n",
        "                        \n",
        "    #                     loss = criterion(outputs, labels)\n",
        "                \n",
        "    #                 running_loss += loss.item() * inputs.size(0)\n",
        "    #                 running_corrects += torch.sum(preds == labels.data)\n",
        "                \n",
        "    #             epoch_loss = running_loss / test_size\n",
        "    #             epoch_acc = running_corrects.double() / test_size\n",
        "                \n",
        "    #             print('{} Loss: {:.4f} Acc: {:.4f}'.format('Val', epoch_loss, epoch_acc))\n",
        "    #             if epoch_acc > best_acc:\n",
        "    #                 best_acc = epoch_acc\n",
        "    #                 best_model_wts = copy.deepcopy(model.state_dict())\n",
        "\n",
        "\n",
        "    #     print()\n",
        "\n",
        "    # time_elapsed = time.time() - since\n",
        "    # print('Training complete in {:.0f}m {:.0f}s'.format(time_elapsed // 60, time_elapsed % 60))\n",
        "    # print('Best val Acc: {:4f}'.format(best_acc))\n",
        "\n",
        "    # # load best model weights\n",
        "    # model.load_state_dict(best_model_wts)\n",
        "    # return model, best_acc"
      ],
      "execution_count": 5,
      "outputs": []
    },
    {
      "cell_type": "code",
      "metadata": {
        "id": "8Z50BY9Brb6p",
        "colab_type": "code",
        "colab": {}
      },
      "source": [
        "def test_model(model, criterion, optimizer, data_loader):\n",
        "    model.eval()   # Set model to evaluate mode\n",
        "                \n",
        "    running_loss = 0.0\n",
        "    running_corrects = 0\n",
        "\n",
        "    for data in data_loader:\n",
        "        inputs, labels = data\n",
        "        inputs = inputs.to(device)\n",
        "        labels = labels.to(device)\n",
        "        optimizer.zero_grad()\n",
        "        with torch.set_grad_enabled(False):\n",
        "            outputs = model(inputs)\n",
        "            _, preds = torch.max(outputs, 1)\n",
        "\n",
        "            loss = criterion(outputs, labels)\n",
        "\n",
        "        running_loss += loss.item() * inputs.size(0)\n",
        "        running_corrects += torch.sum(preds == labels.data)\n",
        "\n",
        "    epoch_loss = running_loss / test_size\n",
        "    epoch_acc = running_corrects.double() / test_size\n",
        "\n",
        "    print('{} Loss: {:.4f} Acc: {:.4f}'.format('Val', epoch_loss, epoch_acc))"
      ],
      "execution_count": 6,
      "outputs": []
    },
    {
      "cell_type": "code",
      "metadata": {
        "id": "iTLxvFevrmP5",
        "colab_type": "code",
        "colab": {}
      },
      "source": [
        "transform = transforms.Compose(\n",
        "    [transforms.ToTensor(),\n",
        "    #  transforms.Normalize((0.5), (0.5))\n",
        "     ])\n",
        "\n",
        "train_dataset = torchvision.datasets.MNIST(root='./data', train=True,\n",
        "                                        download=True, transform=transform)\n",
        "trainloader = torch.utils.data.DataLoader(train_dataset, batch_size=64,\n",
        "                                          shuffle=True, num_workers=2)\n",
        "\n",
        "test_dataset = torchvision.datasets.MNIST(root='./data', train=False,\n",
        "                                       download=True, transform=transform)\n",
        "testloader = torch.utils.data.DataLoader(test_dataset, batch_size=64,\n",
        "                                         shuffle=False, num_workers=2)\n",
        "\n"
      ],
      "execution_count": 8,
      "outputs": []
    },
    {
      "cell_type": "code",
      "metadata": {
        "id": "vZmub7o4uIrv",
        "colab_type": "code",
        "colab": {
          "base_uri": "https://localhost:8080/",
          "height": 518
        },
        "outputId": "2ff1a741-6672-4bf8-a06d-6fafbe464ef2"
      },
      "source": [
        "train_size = len(train_dataset)\n",
        "test_size = len(test_dataset)\n",
        "# net = torch.load('LeNet_5_class_pretrained_model.tar')\n",
        "net = LeNet()\n",
        "# net.apply(weight_inits)\n",
        "\n",
        "criterion = nn.CrossEntropyLoss()\n",
        "\n",
        "# Observe that all parameters are being optimized\n",
        "optimizer_ft = optim.Adam(net.parameters(), lr=0.001)\n",
        "\n",
        "# Decay LR by a factor of 0.1 every 7 epochs\n",
        "exp_lr_scheduler = lr_scheduler.StepLR(optimizer_ft, step_size=7, gamma=0.1)\n",
        "\n",
        "train_model(net, criterion, optimizer_ft, trainloader, exp_lr_scheduler,\n",
        "                       num_epochs=10)"
      ],
      "execution_count": 9,
      "outputs": [
        {
          "output_type": "stream",
          "text": [
            "Epoch 0/9\n",
            "----------\n",
            "Train Loss: 0.2830 Acc: 0.9121\n",
            "Epoch 1/9\n",
            "----------\n",
            "Train Loss: 0.0809 Acc: 0.9746\n",
            "Epoch 2/9\n",
            "----------\n",
            "Train Loss: 0.0565 Acc: 0.9821\n",
            "Epoch 3/9\n",
            "----------\n",
            "Train Loss: 0.0458 Acc: 0.9856\n",
            "Epoch 4/9\n",
            "----------\n",
            "Train Loss: 0.0387 Acc: 0.9881\n",
            "Epoch 5/9\n",
            "----------\n",
            "Train Loss: 0.0311 Acc: 0.9904\n",
            "Epoch 6/9\n",
            "----------\n",
            "Train Loss: 0.0266 Acc: 0.9909\n",
            "Epoch 7/9\n",
            "----------\n",
            "Train Loss: 0.0122 Acc: 0.9964\n",
            "Epoch 8/9\n",
            "----------\n",
            "Train Loss: 0.0097 Acc: 0.9972\n",
            "Epoch 9/9\n",
            "----------\n",
            "Train Loss: 0.0081 Acc: 0.9978\n"
          ],
          "name": "stdout"
        }
      ]
    },
    {
      "cell_type": "code",
      "metadata": {
        "id": "BG4bqDX0xDKB",
        "colab_type": "code",
        "colab": {
          "base_uri": "https://localhost:8080/",
          "height": 33
        },
        "outputId": "801faa59-ed2d-49de-d8ad-1743d7ec816b"
      },
      "source": [
        "test_model(net, criterion, optimizer_ft, testloader)"
      ],
      "execution_count": 10,
      "outputs": [
        {
          "output_type": "stream",
          "text": [
            "Val Loss: 0.0256 Acc: 0.9921\n"
          ],
          "name": "stdout"
        }
      ]
    },
    {
      "cell_type": "code",
      "metadata": {
        "id": "htc2LyWNxcUa",
        "colab_type": "code",
        "colab": {}
      },
      "source": [
        "def image_train(x, y, optimizer, model, epoch=1000):\n",
        "    model.eval()\n",
        "    \n",
        "    for i in range(epoch):\n",
        "        optimizer.zero_grad()\n",
        "        logits = model(x)\n",
        "        \n",
        "        prob = torch.softmax(logits, -1)\n",
        "        loss = y * prob.log()\n",
        "        loss = - loss.sum(-1).mean()\n",
        "        \n",
        "        loss.backward()\n",
        "        optimizer.step()\n",
        "        if i % 100 == 0:\n",
        "            print('loss', loss.item())\n",
        "            \n",
        "    print(\"Image training finished...\")\n",
        "    x = torch.tanh(x)\n",
        "    return x,y"
      ],
      "execution_count": 11,
      "outputs": []
    },
    {
      "cell_type": "code",
      "metadata": {
        "id": "JqCAKhdoyKWP",
        "colab_type": "code",
        "colab": {
          "base_uri": "https://localhost:8080/",
          "height": 201
        },
        "outputId": "01bfcd37-6c76-4ee3-f816-4c57de7c4a34"
      },
      "source": [
        "y = torch.FloatTensor([0.0, 1, 0, 0, 0, 0, 0, 0, 0, 0])\n",
        "x = torch.randn((1, 1, 28, 28), requires_grad=True)\n",
        "optimizer = optim.Adam([x], lr=0.001)\n",
        "images, labels = image_train(x, y, optimizer, net, 1000)"
      ],
      "execution_count": 13,
      "outputs": [
        {
          "output_type": "stream",
          "text": [
            "loss 4.46278715133667\n",
            "loss 0.18367625772953033\n",
            "loss 0.0674540176987648\n",
            "loss 0.03492016717791557\n",
            "loss 0.022810442373156548\n",
            "loss 0.015010515227913857\n",
            "loss 0.009723697789013386\n",
            "loss 0.0069838883355259895\n",
            "loss 0.005387906916439533\n",
            "loss 0.004345367196947336\n",
            "Image training finished...\n"
          ],
          "name": "stdout"
        }
      ]
    },
    {
      "cell_type": "code",
      "metadata": {
        "id": "Ax79LMZ1z4f8",
        "colab_type": "code",
        "colab": {
          "base_uri": "https://localhost:8080/",
          "height": 298
        },
        "outputId": "9bee5f84-3dcb-4352-9d95-eb911cca710c"
      },
      "source": [
        "pic = images.detach().numpy()\n",
        "print(pic.shape)\n",
        "pic_1 = pic[0,0,:,:]\n",
        "plt.imshow(pic_1, cmap='Greys', interpolation='nearest')"
      ],
      "execution_count": 14,
      "outputs": [
        {
          "output_type": "stream",
          "text": [
            "(1, 1, 28, 28)\n"
          ],
          "name": "stdout"
        },
        {
          "output_type": "execute_result",
          "data": {
            "text/plain": [
              "<matplotlib.image.AxesImage at 0x7f54241e74a8>"
            ]
          },
          "metadata": {
            "tags": []
          },
          "execution_count": 14
        },
        {
          "output_type": "display_data",
          "data": {
            "image/png": "[encoded data removed]",
            "text/plain": [
              "<Figure size 432x288 with 1 Axes>"
            ]
          },
          "metadata": {
            "tags": [],
            "needs_background": "light"
          }
        }
      ]
    },
    {
      "cell_type": "code",
      "metadata": {
        "id": "OGroUbyq1LvF",
        "colab_type": "code",
        "colab": {
          "base_uri": "https://localhost:8080/",
          "height": 50
        },
        "outputId": "4a6c4760-5a34-4234-dfac-999fe4727793"
      },
      "source": [
        "y_pred = net(images)\n",
        "y_pred"
      ],
      "execution_count": 15,
      "outputs": [
        {
          "output_type": "execute_result",
          "data": {
            "text/plain": [
              "tensor([[-9.4282,  2.0327, -1.5417, -1.3636, -1.0980, -0.5980, -4.9631, -2.4809,\n",
              "          0.8561, -0.2797]], grad_fn=<AddmmBackward>)"
            ]
          },
          "metadata": {
            "tags": []
          },
          "execution_count": 15
        }
      ]
    }
  ]
}