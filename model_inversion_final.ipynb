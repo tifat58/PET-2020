{
  "nbformat": 4,
  "nbformat_minor": 0,
  "metadata": {
    "colab": {
      "name": "model_inversion.ipynb",
      "provenance": [],
      "collapsed_sections": [],
      "authorship_tag": "ABX9TyOxXMd0b+1uz+7fMXCwI/4a",
      "include_colab_link": true
    },
    "kernelspec": {
      "name": "python3",
      "display_name": "Python 3"
    }
  },
  "cells": [
    {
      "cell_type": "markdown",
      "metadata": {
        "id": "view-in-github",
        "colab_type": "text"
      },
      "source": [
        "<a href=\"https://colab.research.google.com/github/tifat58/PET-2020/blob/master/model_inversion_final.ipynb\" target=\"_parent\"><img src=\"https://colab.research.google.com/assets/colab-badge.svg\" alt=\"Open In Colab\"/></a>"
      ]
    },
    {
      "cell_type": "code",
      "metadata": {
        "id": "pqXCFobXn8Nm",
        "colab_type": "code",
        "colab": {}
      },
      "source": [
        "from __future__ import print_function, division\n",
        "\n",
        "import torch\n",
        "import torch.nn as nn\n",
        "import torch.optim as optim\n",
        "from torch.optim import lr_scheduler\n",
        "import numpy as np\n",
        "import torchvision\n",
        "from torchvision import datasets, models, transforms\n",
        "from torch.utils.data import Subset, Dataset, DataLoader\n",
        "import matplotlib.pyplot as plt\n",
        "import time\n",
        "import os\n",
        "import copy\n",
        "import pandas as pd\n",
        "import random\n",
        "import torchvision.transforms as transforms\n",
        "\n",
        "plt.ion()   # interactive mode\n",
        "device = torch.device(\"cuda:0\" if torch.cuda.is_available() else \"cpu\")\n"
      ],
      "execution_count": 116,
      "outputs": []
    },
    {
      "cell_type": "code",
      "metadata": {
        "id": "NxToRX1pXNyo",
        "colab_type": "code",
        "colab": {
          "base_uri": "https://localhost:8080/",
          "height": 34
        },
        "outputId": "d0694f77-8cd3-4007-fb9a-88affeec11a3"
      },
      "source": [
        "\n",
        "from google.colab import drive\n",
        "drive.mount('/content/gdrive')"
      ],
      "execution_count": 141,
      "outputs": [
        {
          "output_type": "stream",
          "text": [
            "Drive already mounted at /content/gdrive; to attempt to forcibly remount, call drive.mount(\"/content/gdrive\", force_remount=True).\n"
          ],
          "name": "stdout"
        }
      ]
    },
    {
      "cell_type": "markdown",
      "metadata": {
        "id": "cHQOiIyVxdO4",
        "colab_type": "text"
      },
      "source": [
        "**Section: Common Model classes, DataBase classs and functions**"
      ]
    },
    {
      "cell_type": "code",
      "metadata": {
        "id": "Q9pWJZ-lqzvh",
        "colab_type": "code",
        "colab": {}
      },
      "source": [
        "\n",
        "\"\"\" LeNet architecture implementation\n",
        "    This model is used to train mnist and fashion mnist classifier \n",
        "\"\"\"\n",
        "from torch import nn, optim\n",
        "from torch.autograd import Variable\n",
        "import torch.nn.functional as F\n",
        "\n",
        "class LeNet(nn.Module):\n",
        "    def __init__(self,  input_dim=1, output_dim=10):\n",
        "        super(LeNet, self,).__init__()\n",
        "        self.input_dim = input_dim\n",
        "        self.output_dim = output_dim\n",
        "        self.conv1 = nn.Conv2d(self.input_dim, 6, (5,5), padding=2)\n",
        "        self.conv2 = nn.Conv2d(6, 16, (5,5))\n",
        "        self.fc1   = nn.Linear(16*5*5, 120)\n",
        "        self.fc2   = nn.Linear(120, 84)\n",
        "        self.fc3   = nn.Linear(84, self.output_dim)\n",
        "        \n",
        "    def forward(self, x):\n",
        "\n",
        "        x = F.max_pool2d(F.relu(self.conv1(x)), (2,2))\n",
        "        x = F.max_pool2d(F.relu(self.conv2(x)), (2,2))\n",
        "        x = x.view(-1, self.num_flat_features(x))\n",
        "        x = F.relu(self.fc1(x))\n",
        "        x = F.relu(self.fc2(x))\n",
        "        x = self.fc3(x)\n",
        "        return x\n",
        "    \n",
        "    def num_flat_features(self, x):\n",
        "        size = x.size()[1:]\n",
        "        num_features = 1\n",
        "        for s in size:\n",
        "            num_features *= s\n",
        "        return num_features"
      ],
      "execution_count": 202,
      "outputs": []
    },
    {
      "cell_type": "code",
      "metadata": {
        "id": "RKVNAZeItGNT",
        "colab_type": "code",
        "colab": {}
      },
      "source": [
        "# LeNet for Cifar10\n",
        "class LeNet_cifar10(nn.Module):\n",
        "    def __init__(self,  input_dim=1, output_dim=10):\n",
        "        super(LeNet_cifar10, self,).__init__()\n",
        "        self.input_dim = input_dim\n",
        "        self.output_dim = output_dim\n",
        "        self.conv1 = nn.Conv2d(self.input_dim, 6, (5,5), padding=2)\n",
        "        self.conv2 = nn.Conv2d(6, 16, (5,5))\n",
        "        self.fc1   = nn.Linear(16*6*6, 120)\n",
        "        self.fc2   = nn.Linear(120, 84)\n",
        "        self.fc3   = nn.Linear(84, self.output_dim)\n",
        "        \n",
        "    def forward(self, x):\n",
        "\n",
        "        x = F.max_pool2d(F.relu(self.conv1(x)), (2,2))\n",
        "        x = F.max_pool2d(F.relu(self.conv2(x)), (2,2))\n",
        "        x = x.view(-1, self.num_flat_features(x))\n",
        "        x = F.relu(self.fc1(x))\n",
        "        x = F.relu(self.fc2(x))\n",
        "        x = self.fc3(x)\n",
        "        return x\n",
        "    \n",
        "    def num_flat_features(self, x):\n",
        "        size = x.size()[1:]\n",
        "        num_features = 1\n",
        "        for s in size:\n",
        "            num_features *= s\n",
        "        return num_features"
      ],
      "execution_count": 211,
      "outputs": []
    },
    {
      "cell_type": "code",
      "metadata": {
        "id": "0KdZXo0Yq4mh",
        "colab_type": "code",
        "colab": {}
      },
      "source": [
        "# function to initialize weights with xavier normal distribution\n",
        "def weight_inits(m):\n",
        "    if isinstance(m, nn.Conv2d):\n",
        "        torch.nn.init.xavier_normal_(m.weight)\n",
        "    \n",
        "    if isinstance(m, nn.Linear):\n",
        "        torch.nn.init.xavier_normal_(m.weight)"
      ],
      "execution_count": 118,
      "outputs": []
    },
    {
      "cell_type": "code",
      "metadata": {
        "id": "4TiMdBnjLHVT",
        "colab_type": "code",
        "colab": {}
      },
      "source": [
        "# a = LeNet_cifar10(input_dim=3)\n",
        "# from torchsummary import summary\n",
        "# summary(a, (3, 32,32))"
      ],
      "execution_count": 213,
      "outputs": []
    },
    {
      "cell_type": "code",
      "metadata": {
        "id": "dD8xxKzRT0r2",
        "colab_type": "code",
        "colab": {}
      },
      "source": [
        ""
      ],
      "execution_count": 87,
      "outputs": []
    },
    {
      "cell_type": "code",
      "metadata": {
        "id": "Il5RmAHkLqMQ",
        "colab_type": "code",
        "colab": {}
      },
      "source": [
        ""
      ],
      "execution_count": 87,
      "outputs": []
    },
    {
      "cell_type": "code",
      "metadata": {
        "id": "Q568Sz4dsekR",
        "colab_type": "code",
        "colab": {}
      },
      "source": [
        "# Custom Model dataset class\n",
        "# input args: name: dataset name {mnist, fashionmnist, cifar10}, root: directory to download data\n",
        "# returns: train and test loader\n",
        "from torch.utils.data import Subset\n",
        "from PIL import Image\n",
        "from torchvision.datasets import MNIST, CIFAR10, FashionMNIST\n",
        "import torchvision.transforms as transforms\n",
        "\n",
        "classes = ('plane', 'car', 'bird', 'cat', 'deer', 'dog', 'frog', 'horse', 'ship', 'truck')\n",
        "\n",
        "class ModelDataset(Dataset):\n",
        "\n",
        "    def __init__(self, name: str, root='./data'):\n",
        "        super().__init__()\n",
        "        self.root = root\n",
        "        self.name = name\n",
        "\n",
        "        if name == 'cifar10':\n",
        "\n",
        "          self.classes = ('plane', 'car', 'bird', 'cat', 'deer', 'dog', 'frog', 'horse', 'ship', 'truck')\n",
        "          transform = transforms.Compose([transforms.ToTensor(),\n",
        "                                        transforms.Normalize((0.5, 0.5, 0.5), (0.5, 0.5, 0.5))])\n",
        "          # target_transform = transforms.Lambda(lambda x: convert_label(x))\n",
        "          \n",
        "          self.train_dataset = torchvision.datasets.CIFAR10(root=self.root, train=True, download=True, transform=transform)\n",
        "          self.train_loader = torch.utils.data.DataLoader(self.train_dataset, batch_size=64, shuffle=True, num_workers=2)\n",
        "\n",
        "          self.test_dataset = torchvision.datasets.CIFAR10(root=self.root, train=False, download=True, transform=transform)\n",
        "          self.test_loader = torch.utils.data.DataLoader(self.test_dataset, batch_size=64, shuffle=False, num_workers=2)\n",
        "\n",
        "          self.train_size = (len(self.train_dataset))\n",
        "          self.test_size = (len(self.test_dataset))\n",
        "\n",
        "\n",
        "        elif name == 'mnist':\n",
        "          self.classes = ('0', '1', '2', '3', '4', '5', '6', '7', '8', '9')\n",
        "          transform = transforms.Compose([transforms.ToTensor(),\n",
        "                                        ])\n",
        "          # target_transform = transforms.Lambda(lambda x: convert_label(x))\n",
        "          \n",
        "          self.train_dataset = torchvision.datasets.MNIST(root=self.root, train=True, download=True, transform=transform)\n",
        "          self.train_loader = torch.utils.data.DataLoader(self.train_dataset, batch_size=64, shuffle=True, num_workers=2)\n",
        "\n",
        "          self.test_dataset = torchvision.datasets.MNIST(root=self.root, train=False, download=True, transform=transform)\n",
        "          self.test_loader = torch.utils.data.DataLoader(self.test_dataset, batch_size=64, shuffle=False, num_workers=2)\n",
        "\n",
        "          self.train_size = (len(self.train_dataset))\n",
        "          self.test_size = (len(self.test_dataset))\n",
        "\n",
        "\n",
        "        elif name == 'FashionMNIST':\n",
        "          # self.classes = ('T-shirt/top', 'Trouser', 'Pullover', 'Dress', 'Coat', 'Sandal', 'Shirt', 'Sneaker', 'Bag', 'Ankle boot')\n",
        "          self.classes = ('T-shirt/top', 'Trouser', 'Pullover', 'Dress', 'Coat', 'Sandal', 'Shirt', 'Sneaker', 'Bag', 'Ankle boot')\n",
        "          transform = transforms.Compose([transforms.ToTensor(),\n",
        "                                        ])\n",
        "          # target_transform = transforms.Lambda(lambda x: convert_label(x))\n",
        "          \n",
        "          self.train_dataset = torchvision.datasets.FashionMNIST(root=self.root, train=True, download=True, transform=transform)\n",
        "          self.train_loader = torch.utils.data.DataLoader(self.train_dataset, batch_size=64, shuffle=True, num_workers=2)\n",
        "\n",
        "          self.test_dataset = torchvision.datasets.FashionMNIST(root=self.root, train=False, download=True, transform=transform)\n",
        "          self.test_loader = torch.utils.data.DataLoader(self.test_dataset, batch_size=64, shuffle=False, num_workers=2)\n",
        "\n",
        "          self.train_size = (len(self.train_dataset))\n",
        "          self.test_size = (len(self.test_dataset))\n"
      ],
      "execution_count": 119,
      "outputs": []
    },
    {
      "cell_type": "code",
      "metadata": {
        "id": "tiRUzYcGq7_y",
        "colab_type": "code",
        "colab": {}
      },
      "source": [
        "def train_model(model, criterion, optimizer, data_loader, scheduler, num_epochs=20):\n",
        "    since = time.time()\n",
        "\n",
        "    best_model_wts = copy.deepcopy(model.state_dict())\n",
        "    best_acc = 0.0\n",
        "\n",
        "    for epoch in range(num_epochs):\n",
        "        print('Epoch {}/{}'.format(epoch, num_epochs - 1))\n",
        "        print('-' * 10)\n",
        "\n",
        "        # Each epoch has a training and validation phase\n",
        "        for phase in ['train']:\n",
        "            \n",
        "            if phase == 'train':\n",
        "                model.train()  # Set model to training mode\n",
        "                \n",
        "                running_loss = 0.0\n",
        "                running_corrects = 0\n",
        "                \n",
        "                for data in data_loader:\n",
        "                    inputs, labels = data\n",
        "                    inputs = inputs.to(device)\n",
        "                    labels = labels.to(device)\n",
        "                    \n",
        "                    \n",
        "                    optimizer.zero_grad()\n",
        "                    with torch.set_grad_enabled(True):\n",
        "                        outputs = model(inputs)\n",
        "                        \n",
        "                        _, preds = torch.max(outputs, 1)\n",
        "#                         print(preds, labels)\n",
        "                        loss = criterion(outputs, labels)\n",
        "                        \n",
        "                        loss.backward()\n",
        "                        optimizer.step()\n",
        "                    \n",
        "                    running_loss += loss.item() * inputs.size(0)\n",
        "                    running_corrects += torch.sum(preds == labels.data)\n",
        "                    \n",
        "                scheduler.step()\n",
        "                \n",
        "                epoch_loss = running_loss / train_size\n",
        "                epoch_acc = running_corrects.double() / train_size\n",
        "\n",
        "                print('{} Loss: {:.4f} Acc: {:.4f}'.format('Train', epoch_loss, epoch_acc))\n",
        "                    \n",
        "  \n",
        "\n",
        "    time_elapsed = time.time() - since\n",
        "    print('Training complete in {:.0f}m {:.0f}s'.format(time_elapsed // 60, time_elapsed % 60))\n",
        "    # print('Best val Acc: {:4f}'.format(best_acc))\n",
        "\n",
        "    # # load best model weights\n",
        "    # model.load_state_dict(best_model_wts)\n",
        "    # return model, best_acc"
      ],
      "execution_count": 120,
      "outputs": []
    },
    {
      "cell_type": "code",
      "metadata": {
        "id": "8Z50BY9Brb6p",
        "colab_type": "code",
        "colab": {}
      },
      "source": [
        "def test_model(model, criterion, optimizer, data_loader):\n",
        "    model.eval()   # Set model to evaluate mode\n",
        "                \n",
        "    running_loss = 0.0\n",
        "    running_corrects = 0\n",
        "\n",
        "    for data in data_loader:\n",
        "        inputs, labels = data\n",
        "        inputs = inputs.to(device)\n",
        "        labels = labels.to(device)\n",
        "        optimizer.zero_grad()\n",
        "        with torch.set_grad_enabled(False):\n",
        "            outputs = model(inputs)\n",
        "            _, preds = torch.max(outputs, 1)\n",
        "\n",
        "            loss = criterion(outputs, labels)\n",
        "\n",
        "        running_loss += loss.item() * inputs.size(0)\n",
        "        running_corrects += torch.sum(preds == labels.data)\n",
        "\n",
        "    epoch_loss = running_loss / test_size\n",
        "    epoch_acc = running_corrects.double() / test_size\n",
        "\n",
        "    print('{} Loss: {:.4f} Acc: {:.4f}'.format('Val', epoch_loss, epoch_acc))"
      ],
      "execution_count": 121,
      "outputs": []
    },
    {
      "cell_type": "code",
      "metadata": {
        "id": "GRBcJHVaxwZa",
        "colab_type": "code",
        "colab": {}
      },
      "source": [
        "# process function is kept as identity function\n",
        "def process(x):\n",
        "  return x\n"
      ],
      "execution_count": 76,
      "outputs": []
    },
    {
      "cell_type": "code",
      "metadata": {
        "id": "htc2LyWNxcUa",
        "colab_type": "code",
        "colab": {}
      },
      "source": [
        "# sent x with noisy initialization with input shape\n",
        "# y is the label to predict\n",
        "# model: trained classifier model\n",
        "# alpha: total number of iteration/epoch\n",
        "# beta: early stopping criteria\n",
        "# gamma: minimum loss value to stop iteration\n",
        "# lamda: optimizer learning rate\n",
        "\n",
        "def MI_face(x, y, model, alpha=1500, beta=50, gamma=0.001, lamda=0.001, optim_name='SGD'):\n",
        "    model.eval()\n",
        "    if optim_name == 'Adam':\n",
        "      optimizer = optim.Adam([x], lr=gamma)\n",
        "      \n",
        "    else:\n",
        "      optimizer = optim.SGD([x], lr=gamma, momentum=0.9)\n",
        "\n",
        "    loss_list = torch.zeros([alpha])\n",
        "    for i in range(alpha):\n",
        "        optimizer.zero_grad()\n",
        "        logits = model(x)\n",
        "        # x = process(x)\n",
        "\n",
        "        prob = torch.softmax(logits, -1)\n",
        "        loss = y * prob.log()\n",
        "        loss = - loss.sum(-1).mean()\n",
        "        \n",
        "        loss.backward()\n",
        "        optimizer.step()\n",
        "\n",
        "        loss_list[i] = loss.item()\n",
        "        # print(loss.item())\n",
        "        if i > beta:\n",
        "          marker = True\n",
        "          for j in range((i - beta), i):\n",
        "            if loss_list[j] >= loss.item():\n",
        "              marker = False\n",
        "              break\n",
        "          if marker:\n",
        "            break\n",
        "        \n",
        "        if round(loss.item(),4) <= gamma:\n",
        "          break\n",
        "\n",
        "        if i % 100 == 0:\n",
        "            print('loss', loss.item())\n",
        "            \n",
        "    print(\"Image training finished...\")\n",
        "    print(\"total iteration:\", i)\n",
        "    \n",
        "    x = torch.tanh(x)\n",
        "    return x,y"
      ],
      "execution_count": 181,
      "outputs": []
    },
    {
      "cell_type": "code",
      "metadata": {
        "id": "iTLxvFevrmP5",
        "colab_type": "code",
        "colab": {}
      },
      "source": [
        "def imshow(img):\n",
        "    img = img / 2 + 0.5     # unnormalize\n",
        "    npimg = img.numpy()\n",
        "    plt.imshow(np.transpose(npimg, (1, 2, 0)))\n",
        "    plt.show()\n",
        "\n",
        "\n",
        "def show_image(images):\n",
        "  pic = images.detach().numpy()\n",
        "  # print(pic.shape)\n",
        "  pic_1 = pic[0,0,:,:]\n",
        "  plt.imshow(pic_1, cmap='Greys', interpolation='nearest')"
      ],
      "execution_count": 157,
      "outputs": []
    },
    {
      "cell_type": "code",
      "metadata": {
        "id": "j23-KdF6kuuY",
        "colab_type": "code",
        "colab": {}
      },
      "source": [
        "def save_model(model, model_save_name):\n",
        "  path = F\"/content/gdrive/My Drive/{model_save_name}\" \n",
        "  torch.save(model.state_dict(), path)\n",
        "  print(\"Model Saved...\")\n"
      ],
      "execution_count": 156,
      "outputs": []
    },
    {
      "cell_type": "markdown",
      "metadata": {
        "id": "4ALOEFhVxseA",
        "colab_type": "text"
      },
      "source": [
        "**Section: For Fashion MNIST Dataset**"
      ]
    },
    {
      "cell_type": "code",
      "metadata": {
        "id": "WthS9Z-R0SO6",
        "colab_type": "code",
        "colab": {
          "base_uri": "https://localhost:8080/",
          "height": 34
        },
        "outputId": "8d8581ee-634c-4cf6-c2ef-f5225916fd6e"
      },
      "source": [
        "#Training Fashionmnist\n",
        "fashion_data = ModelDataset(name='FashionMNIST')\n",
        "print(\"Dataset: \", fashion_data.name)\n",
        "train_size = fashion_data.train_size\n",
        "test_size = fashion_data.test_size\n",
        "\n",
        "fashion_net = LeNet(input_dim=1)\n",
        "fashion_net.apply(weight_inits)\n",
        "criterion = nn.CrossEntropyLoss()\n",
        "\n",
        "# Observe that all parameters are being optimized\n",
        "optimizer_ft = optim.SGD(fashion_net.parameters(), lr=0.001)\n",
        "\n",
        "# Decay LR by a factor of 0.1 every 7 epochs\n",
        "exp_lr_scheduler = lr_scheduler.StepLR(optimizer_ft, step_size=20, gamma=0.1)"
      ],
      "execution_count": 122,
      "outputs": [
        {
          "output_type": "stream",
          "text": [
            "Dataset:  FashionMNIST\n"
          ],
          "name": "stdout"
        }
      ]
    },
    {
      "cell_type": "code",
      "metadata": {
        "id": "nYCe_dAWNQsy",
        "colab_type": "code",
        "colab": {
          "base_uri": "https://localhost:8080/",
          "height": 112
        },
        "outputId": "5b52527d-2cfb-45b4-94b4-d43d6f3d4870"
      },
      "source": [
        "\n",
        "# get some random training images\n",
        "dataiter = iter(fashion_data.train_loader)\n",
        "images, labels = dataiter.next()\n",
        "# print(\"Labels: \", labels)\n",
        "\n",
        "# show images\n",
        "imshow(torchvision.utils.make_grid(images[0:8]))\n",
        "print(' '.join('%5s' % fashion_data.classes[labels[j]] for j in range(8)))"
      ],
      "execution_count": 123,
      "outputs": [
        {
          "output_type": "display_data",
          "data": {
            "image/png": "[encoded data removed]",
            "text/plain": [
              "<Figure size 432x288 with 1 Axes>"
            ]
          },
          "metadata": {
            "tags": [],
            "needs_background": "light"
          }
        },
        {
          "output_type": "stream",
          "text": [
            "Ankle boot T-shirt/top Trouser Sneaker  Coat   Bag Sneaker   Bag\n"
          ],
          "name": "stdout"
        }
      ]
    },
    {
      "cell_type": "code",
      "metadata": {
        "id": "vZmub7o4uIrv",
        "colab_type": "code",
        "colab": {
          "base_uri": "https://localhost:8080/",
          "height": 790
        },
        "outputId": "ed82ac56-98f6-4022-f035-caa23b992042"
      },
      "source": [
        "\n",
        "train_model(fashion_net, criterion, optimizer_ft, fashion_data.train_loader, exp_lr_scheduler,\n",
        "                       num_epochs=15)"
      ],
      "execution_count": 124,
      "outputs": [
        {
          "output_type": "stream",
          "text": [
            "Epoch 0/14\n",
            "----------\n",
            "Train Loss: 2.2907 Acc: 0.0871\n",
            "Epoch 1/14\n",
            "----------\n",
            "Train Loss: 2.2092 Acc: 0.2858\n",
            "Epoch 2/14\n",
            "----------\n",
            "Train Loss: 1.6270 Acc: 0.5496\n",
            "Epoch 3/14\n",
            "----------\n",
            "Train Loss: 0.9063 Acc: 0.6794\n",
            "Epoch 4/14\n",
            "----------\n",
            "Train Loss: 0.7930 Acc: 0.7056\n",
            "Epoch 5/14\n",
            "----------\n",
            "Train Loss: 0.7443 Acc: 0.7255\n",
            "Epoch 6/14\n",
            "----------\n",
            "Train Loss: 0.7105 Acc: 0.7396\n",
            "Epoch 7/14\n",
            "----------\n",
            "Train Loss: 0.6813 Acc: 0.7535\n",
            "Epoch 8/14\n",
            "----------\n",
            "Train Loss: 0.6781 Acc: 0.7557\n",
            "Epoch 9/14\n",
            "----------\n",
            "Train Loss: 0.6752 Acc: 0.7564\n",
            "Epoch 10/14\n",
            "----------\n",
            "Train Loss: 0.6725 Acc: 0.7580\n",
            "Epoch 11/14\n",
            "----------\n",
            "Train Loss: 0.6698 Acc: 0.7592\n",
            "Epoch 12/14\n",
            "----------\n",
            "Train Loss: 0.6671 Acc: 0.7602\n",
            "Epoch 13/14\n",
            "----------\n",
            "Train Loss: 0.6645 Acc: 0.7610\n",
            "Epoch 14/14\n",
            "----------\n",
            "Train Loss: 0.6623 Acc: 0.7625\n",
            "Training complete in 4m 51s\n"
          ],
          "name": "stdout"
        }
      ]
    },
    {
      "cell_type": "code",
      "metadata": {
        "id": "BG4bqDX0xDKB",
        "colab_type": "code",
        "colab": {
          "base_uri": "https://localhost:8080/",
          "height": 50
        },
        "outputId": "c8ef3c00-b627-4cc1-e215-bef5e5d3c988"
      },
      "source": [
        "print(\"Validation loss and accuracy of Classifier Model in Fashion Mnist Data: \")\n",
        "test_model(fashion_net, criterion, optimizer_ft, fashion_data.test_loader)"
      ],
      "execution_count": 125,
      "outputs": [
        {
          "output_type": "stream",
          "text": [
            "Validation loss and accuracy of Classifier Model in Fashion Mnist Data: \n",
            "Val Loss: 0.6828 Acc: 0.7560\n"
          ],
          "name": "stdout"
        }
      ]
    },
    {
      "cell_type": "code",
      "metadata": {
        "id": "XO_DvDGjSFtF",
        "colab_type": "code",
        "colab": {
          "base_uri": "https://localhost:8080/",
          "height": 34
        },
        "outputId": "b1581297-f30f-4796-cd2d-3aa349332820"
      },
      "source": [
        "\n",
        "# save_model(fashion_net, 'fashion_net.pt')"
      ],
      "execution_count": 142,
      "outputs": [
        {
          "output_type": "stream",
          "text": [
            "Model Saved...\n"
          ],
          "name": "stdout"
        }
      ]
    },
    {
      "cell_type": "code",
      "metadata": {
        "id": "JqCAKhdoyKWP",
        "colab_type": "code",
        "colab": {
          "base_uri": "https://localhost:8080/",
          "height": 554
        },
        "outputId": "27f2e6b5-9790-4ae0-ab96-10df77323802"
      },
      "source": [
        "y = torch.FloatTensor([1, 0, 0, 0, 0, 0, 0, 0, 0, 0]) # change here the class prob\n",
        "x = torch.randn((1, 1, 28, 28), requires_grad=True)\n",
        "optimizer = optim.SGD([x], lr=0.001)\n",
        "images, labels = MI_face(x, y, fashion_net, alpha=3000)"
      ],
      "execution_count": 182,
      "outputs": [
        {
          "output_type": "stream",
          "text": [
            "loss 3.380640745162964\n",
            "loss 1.2136609554290771\n",
            "loss 0.5900567173957825\n",
            "loss 0.3937450051307678\n",
            "loss 0.2928095757961273\n",
            "loss 0.22746196389198303\n",
            "loss 0.18509195744991302\n",
            "loss 0.15628354251384735\n",
            "loss 0.13519680500030518\n",
            "loss 0.1185157373547554\n",
            "loss 0.10358530282974243\n",
            "loss 0.09224777668714523\n",
            "loss 0.0830586776137352\n",
            "loss 0.07539775967597961\n",
            "loss 0.069245345890522\n",
            "loss 0.06427235156297684\n",
            "loss 0.05992158502340317\n",
            "loss 0.05614003539085388\n",
            "loss 0.05281130224466324\n",
            "loss 0.049893639981746674\n",
            "loss 0.04729137569665909\n",
            "loss 0.0449463352560997\n",
            "loss 0.042822446674108505\n",
            "loss 0.040890131145715714\n",
            "loss 0.03912528231739998\n",
            "loss 0.037508774548769\n",
            "loss 0.036081910133361816\n",
            "loss 0.03476346656680107\n",
            "loss 0.03356632962822914\n",
            "loss 0.032445862889289856\n",
            "Image training finished...\n",
            "total iteration: 2999\n"
          ],
          "name": "stdout"
        }
      ]
    },
    {
      "cell_type": "code",
      "metadata": {
        "id": "Ax79LMZ1z4f8",
        "colab_type": "code",
        "colab": {}
      },
      "source": [
        ""
      ],
      "execution_count": 137,
      "outputs": []
    },
    {
      "cell_type": "code",
      "metadata": {
        "id": "xtZUqxBYYyxi",
        "colab_type": "code",
        "colab": {}
      },
      "source": [
        ""
      ],
      "execution_count": 158,
      "outputs": []
    },
    {
      "cell_type": "code",
      "metadata": {
        "id": "OGroUbyq1LvF",
        "colab_type": "code",
        "colab": {
          "base_uri": "https://localhost:8080/",
          "height": 332
        },
        "outputId": "51e4b3ed-033d-469e-cd8a-1501a1dfd020"
      },
      "source": [
        "\n",
        "# test_net = LeNet()\n",
        "# test_net.load_state_dict(torch.load(F\"/content/gdrive/My Drive/fashion_net.pt\" ))\n",
        "# test_model(test_net, criterion, optimizer_ft, fashion_data.test_loader)\n",
        "print(\"Trained Image True Label: {} ({})\".format(fashion_data.classes[torch.argmax(labels).item()], torch.argmax(labels).item()))\n",
        "y_pred = fashion_net(images)\n",
        "prob = torch.softmax(y_pred, -1)\n",
        "print(\"Trained Image Predicted Label: {} ({}) \".format(fashion_data.classes[prob.argmax().item()], prob.argmax().item()))\n",
        "print(\"Predicted probability for the class: \", prob.max().item())\n",
        "pic = images.detach().numpy()\n",
        "pic_1 = pic[0,0,:,:]\n",
        "plt.imshow(pic_1, cmap='Greys', interpolation='nearest')"
      ],
      "execution_count": 189,
      "outputs": [
        {
          "output_type": "stream",
          "text": [
            "Trained Image True Label: T-shirt/top (0)\n",
            "Trained Image Predicted Label: T-shirt/top (0) \n",
            "Predicted probability for the class:  0.8084378838539124\n"
          ],
          "name": "stdout"
        },
        {
          "output_type": "execute_result",
          "data": {
            "text/plain": [
              "<matplotlib.image.AxesImage at 0x7f3c90abb3c8>"
            ]
          },
          "metadata": {
            "tags": []
          },
          "execution_count": 189
        },
        {
          "output_type": "display_data",
          "data": {
            "image/png": "[encoded data removed]",
            "text/plain": [
              "<Figure size 432x288 with 1 Axes>"
            ]
          },
          "metadata": {
            "tags": [],
            "needs_background": "light"
          }
        }
      ]
    },
    {
      "cell_type": "markdown",
      "metadata": {
        "id": "SOlAkCU-l8M1",
        "colab_type": "text"
      },
      "source": [
        "**Section: For MNIST Dataset**"
      ]
    },
    {
      "cell_type": "code",
      "metadata": {
        "id": "y0Py00amOyr1",
        "colab_type": "code",
        "colab": {
          "base_uri": "https://localhost:8080/",
          "height": 34
        },
        "outputId": "1cb60bc5-2efc-4ca1-835b-092d1e5f324e"
      },
      "source": [
        "#Training mnist\n",
        "\n",
        "mnist_data = ModelDataset(name='mnist')\n",
        "print(\"Dataset: \", mnist_data.name)\n",
        "train_size = mnist_data.train_size\n",
        "test_size = mnist_data.test_size\n",
        "\n",
        "mnist_net = LeNet(input_dim=1)\n",
        "mnist_net.apply(weight_inits)\n",
        "criterion = nn.CrossEntropyLoss()\n",
        "\n",
        "# Observe that all parameters are being optimized\n",
        "optimizer_mnist = optim.SGD(mnist_net.parameters(), lr=0.001)\n",
        "\n",
        "# Decay LR by a factor of 0.1 every 7 epochs\n",
        "exp_lr_scheduler = lr_scheduler.StepLR(optimizer_mnist, step_size=15, gamma=0.1)"
      ],
      "execution_count": 194,
      "outputs": [
        {
          "output_type": "stream",
          "text": [
            "Dataset:  mnist\n"
          ],
          "name": "stdout"
        }
      ]
    },
    {
      "cell_type": "code",
      "metadata": {
        "id": "F3kbR5sz_hOP",
        "colab_type": "code",
        "colab": {
          "base_uri": "https://localhost:8080/",
          "height": 1000
        },
        "outputId": "6c762cc2-344b-416d-93e0-8201d695a55f"
      },
      "source": [
        "train_model(mnist_net, criterion, optimizer_mnist, mnist_data.train_loader, exp_lr_scheduler,\n",
        "                       num_epochs=20)"
      ],
      "execution_count": 195,
      "outputs": [
        {
          "output_type": "stream",
          "text": [
            "Epoch 0/19\n",
            "----------\n",
            "Train Loss: 2.2897 Acc: 0.1611\n",
            "Epoch 1/19\n",
            "----------\n",
            "Train Loss: 2.2232 Acc: 0.3158\n",
            "Epoch 2/19\n",
            "----------\n",
            "Train Loss: 1.7837 Acc: 0.5710\n",
            "Epoch 3/19\n",
            "----------\n",
            "Train Loss: 0.7860 Acc: 0.7885\n",
            "Epoch 4/19\n",
            "----------\n",
            "Train Loss: 0.4812 Acc: 0.8600\n",
            "Epoch 5/19\n",
            "----------\n",
            "Train Loss: 0.3887 Acc: 0.8863\n",
            "Epoch 6/19\n",
            "----------\n",
            "Train Loss: 0.3381 Acc: 0.9001\n",
            "Epoch 7/19\n",
            "----------\n",
            "Train Loss: 0.3052 Acc: 0.9101\n",
            "Epoch 8/19\n",
            "----------\n",
            "Train Loss: 0.2809 Acc: 0.9167\n",
            "Epoch 9/19\n",
            "----------\n",
            "Train Loss: 0.2613 Acc: 0.9218\n",
            "Epoch 10/19\n",
            "----------\n",
            "Train Loss: 0.2456 Acc: 0.9272\n",
            "Epoch 11/19\n",
            "----------\n",
            "Train Loss: 0.2312 Acc: 0.9314\n",
            "Epoch 12/19\n",
            "----------\n",
            "Train Loss: 0.2195 Acc: 0.9349\n",
            "Epoch 13/19\n",
            "----------\n",
            "Train Loss: 0.2086 Acc: 0.9384\n",
            "Epoch 14/19\n",
            "----------\n",
            "Train Loss: 0.1988 Acc: 0.9407\n",
            "Epoch 15/19\n",
            "----------\n",
            "Train Loss: 0.1889 Acc: 0.9442\n",
            "Epoch 16/19\n",
            "----------\n",
            "Train Loss: 0.1878 Acc: 0.9446\n",
            "Epoch 17/19\n",
            "----------\n",
            "Train Loss: 0.1868 Acc: 0.9449\n",
            "Epoch 18/19\n",
            "----------\n",
            "Train Loss: 0.1858 Acc: 0.9452\n",
            "Epoch 19/19\n",
            "----------\n",
            "Train Loss: 0.1851 Acc: 0.9455\n",
            "Training complete in 6m 30s\n"
          ],
          "name": "stdout"
        }
      ]
    },
    {
      "cell_type": "code",
      "metadata": {
        "id": "iCrS5W7BBu-R",
        "colab_type": "code",
        "colab": {
          "base_uri": "https://localhost:8080/",
          "height": 50
        },
        "outputId": "9c0e3f24-487f-4d8e-dfd9-6c542b4e938c"
      },
      "source": [
        "print(\"Validation loss and accuracy of Classifier Model in Mnist Data: \")\n",
        "test_model(mnist_net, criterion, optimizer_mnist, mnist_data.test_loader)"
      ],
      "execution_count": 196,
      "outputs": [
        {
          "output_type": "stream",
          "text": [
            "Validation loss and accuracy of Classifier Model in Mnist Data: \n",
            "Val Loss: 0.1735 Acc: 0.9492\n"
          ],
          "name": "stdout"
        }
      ]
    },
    {
      "cell_type": "code",
      "metadata": {
        "id": "Vr0PMW0lp1M4",
        "colab_type": "code",
        "colab": {
          "base_uri": "https://localhost:8080/",
          "height": 34
        },
        "outputId": "adbba888-7187-414a-e8ec-4dea7768b60d"
      },
      "source": [
        "# save_model(mnist_net, 'mnist_net.pt')"
      ],
      "execution_count": 197,
      "outputs": [
        {
          "output_type": "stream",
          "text": [
            "Model Saved...\n"
          ],
          "name": "stdout"
        }
      ]
    },
    {
      "cell_type": "code",
      "metadata": {
        "id": "Yue5Ud4oB_eh",
        "colab_type": "code",
        "colab": {
          "base_uri": "https://localhost:8080/",
          "height": 554
        },
        "outputId": "eaf0c5f3-e4d3-4f85-f11a-bfb427eb6ada"
      },
      "source": [
        "y = torch.FloatTensor([0.0, 1, 0, 0, 0, 0, 0, 0, 0, 0])\n",
        "x = torch.randn((1, 1, 28, 28), requires_grad=True)\n",
        "images, labels = MI_face(x, y, mnist_net, alpha=3000)"
      ],
      "execution_count": 198,
      "outputs": [
        {
          "output_type": "stream",
          "text": [
            "loss 8.67250919342041\n",
            "loss 4.471280097961426\n",
            "loss 1.1688482761383057\n",
            "loss 0.3108687996864319\n",
            "loss 0.16700004041194916\n",
            "loss 0.11527107656002045\n",
            "loss 0.08774729818105698\n",
            "loss 0.06830734759569168\n",
            "loss 0.05595236271619797\n",
            "loss 0.04742142930626869\n",
            "loss 0.041084807366132736\n",
            "loss 0.03593367710709572\n",
            "loss 0.031763218343257904\n",
            "loss 0.028478028252720833\n",
            "loss 0.02593529410660267\n",
            "loss 0.023842206224799156\n",
            "loss 0.022083705291152\n",
            "loss 0.020592808723449707\n",
            "loss 0.019295040518045425\n",
            "loss 0.018181337043642998\n",
            "loss 0.017166007310152054\n",
            "loss 0.016264624893665314\n",
            "loss 0.015453155152499676\n",
            "loss 0.014718495309352875\n",
            "loss 0.014070027507841587\n",
            "loss 0.013476471416652203\n",
            "loss 0.012929397635161877\n",
            "loss 0.012422935105860233\n",
            "loss 0.011959617026150227\n",
            "loss 0.011530639603734016\n",
            "Image training finished...\n",
            "total iteration: 2999\n"
          ],
          "name": "stdout"
        }
      ]
    },
    {
      "cell_type": "code",
      "metadata": {
        "id": "fQLLUhG1p-NP",
        "colab_type": "code",
        "colab": {
          "base_uri": "https://localhost:8080/",
          "height": 332
        },
        "outputId": "c16fc300-3993-4eae-9dae-7cdf02c20ddd"
      },
      "source": [
        "\n",
        "# test_net = LeNet()\n",
        "# test_net.load_state_dict(torch.load(F\"/content/gdrive/My Drive/mnist_net.pt\" ))\n",
        "# test_model(test_net, criterion, optimizer_ft, fashion_data.test_loader)\n",
        "print(\"Trained Image True Label: {} ({})\".format(mnist_data.classes[torch.argmax(labels).item()], torch.argmax(labels).item()))\n",
        "y_pred = mnist_net(images)\n",
        "prob = torch.softmax(y_pred, -1)\n",
        "print(\"Trained Image Predicted Label: {} ({}) \".format(mnist_data.classes[prob.argmax().item()], prob.argmax().item()))\n",
        "print(\"Predicted probability for the class: \", prob.max().item())\n",
        "pic = images.detach().numpy()\n",
        "pic_1 = pic[0,0,:,:]\n",
        "plt.imshow(pic_1, cmap='Greys', interpolation='nearest')"
      ],
      "execution_count": 199,
      "outputs": [
        {
          "output_type": "stream",
          "text": [
            "Trained Image True Label: 1 (1)\n",
            "Trained Image Predicted Label: 1 (1) \n",
            "Predicted probability for the class:  0.8938592672348022\n"
          ],
          "name": "stdout"
        },
        {
          "output_type": "execute_result",
          "data": {
            "text/plain": [
              "<matplotlib.image.AxesImage at 0x7f3c909f3c50>"
            ]
          },
          "metadata": {
            "tags": []
          },
          "execution_count": 199
        },
        {
          "output_type": "display_data",
          "data": {
            "image/png": "[encoded data removed]",
            "text/plain": [
              "<Figure size 432x288 with 1 Axes>"
            ]
          },
          "metadata": {
            "tags": [],
            "needs_background": "light"
          }
        }
      ]
    },
    {
      "cell_type": "markdown",
      "metadata": {
        "id": "9izJnmvqsG6T",
        "colab_type": "text"
      },
      "source": [
        "**Section: For Cifar10 Dataset**"
      ]
    },
    {
      "cell_type": "code",
      "metadata": {
        "id": "K9Se5JZQDRPI",
        "colab_type": "code",
        "colab": {
          "base_uri": "https://localhost:8080/",
          "height": 67
        },
        "outputId": "acbc682a-0d45-49ce-cc70-1ca2cb6a7440"
      },
      "source": [
        "#Training mnist\n",
        "\n",
        "cifar10_data = ModelDataset(name='cifar10')\n",
        "print(\"Dataset: \", cifar10_data.name)\n",
        "train_size = cifar10_data.train_size\n",
        "test_size = cifar10_data.test_size\n",
        "\n",
        "cifar_net = LeNet_cifar10(input_dim=3)\n",
        "cifar_net.apply(weight_inits)\n",
        "criterion = nn.CrossEntropyLoss()\n",
        "\n",
        "# Observe that all parameters are being optimized\n",
        "optimizer_cifar = optim.SGD(cifar_net.parameters(), lr=0.001)\n",
        "\n",
        "# Decay LR by a factor of 0.1 every 7 epochs\n",
        "exp_lr_scheduler = lr_scheduler.StepLR(optimizer_cifar, step_size=35, gamma=0.1)"
      ],
      "execution_count": 215,
      "outputs": [
        {
          "output_type": "stream",
          "text": [
            "Files already downloaded and verified\n",
            "Files already downloaded and verified\n",
            "Dataset:  cifar10\n"
          ],
          "name": "stdout"
        }
      ]
    },
    {
      "cell_type": "code",
      "metadata": {
        "id": "_cyrCiYwuE7y",
        "colab_type": "code",
        "colab": {
          "base_uri": "https://localhost:8080/",
          "height": 1000
        },
        "outputId": "ba49bf84-2d58-4c62-fd8b-172edadf94c9"
      },
      "source": [
        "train_model(cifar_net, criterion, optimizer_cifar, cifar10_data.train_loader, exp_lr_scheduler,\n",
        "                       num_epochs=20)"
      ],
      "execution_count": 216,
      "outputs": [
        {
          "output_type": "stream",
          "text": [
            "Epoch 0/19\n",
            "----------\n",
            "Train Loss: 2.3032 Acc: 0.1047\n",
            "Epoch 1/19\n",
            "----------\n",
            "Train Loss: 2.2499 Acc: 0.1713\n",
            "Epoch 2/19\n",
            "----------\n",
            "Train Loss: 2.1716 Acc: 0.2215\n",
            "Epoch 3/19\n",
            "----------\n",
            "Train Loss: 2.0533 Acc: 0.2638\n",
            "Epoch 4/19\n",
            "----------\n",
            "Train Loss: 1.9399 Acc: 0.3012\n",
            "Epoch 5/19\n",
            "----------\n",
            "Train Loss: 1.8676 Acc: 0.3291\n",
            "Epoch 6/19\n",
            "----------\n",
            "Train Loss: 1.8139 Acc: 0.3485\n",
            "Epoch 7/19\n",
            "----------\n",
            "Train Loss: 1.7668 Acc: 0.3660\n",
            "Epoch 8/19\n",
            "----------\n",
            "Train Loss: 1.7221 Acc: 0.3832\n",
            "Epoch 9/19\n",
            "----------\n",
            "Train Loss: 1.6810 Acc: 0.3998\n",
            "Epoch 10/19\n",
            "----------\n",
            "Train Loss: 1.6443 Acc: 0.4130\n",
            "Epoch 11/19\n",
            "----------\n",
            "Train Loss: 1.6131 Acc: 0.4245\n",
            "Epoch 12/19\n",
            "----------\n",
            "Train Loss: 1.5871 Acc: 0.4350\n",
            "Epoch 13/19\n",
            "----------\n",
            "Train Loss: 1.5648 Acc: 0.4402\n",
            "Epoch 14/19\n",
            "----------\n",
            "Train Loss: 1.5452 Acc: 0.4477\n",
            "Epoch 15/19\n",
            "----------\n",
            "Train Loss: 1.5293 Acc: 0.4552\n",
            "Epoch 16/19\n",
            "----------\n",
            "Train Loss: 1.5270 Acc: 0.4569\n",
            "Epoch 17/19\n",
            "----------\n",
            "Train Loss: 1.5252 Acc: 0.4577\n",
            "Epoch 18/19\n",
            "----------\n",
            "Train Loss: 1.5233 Acc: 0.4582\n",
            "Epoch 19/19\n",
            "----------\n",
            "Train Loss: 1.5216 Acc: 0.4582\n",
            "Training complete in 7m 38s\n"
          ],
          "name": "stdout"
        }
      ]
    },
    {
      "cell_type": "code",
      "metadata": {
        "id": "6RZ6Yk9rv5Ig",
        "colab_type": "code",
        "colab": {
          "base_uri": "https://localhost:8080/",
          "height": 50
        },
        "outputId": "5a607c5e-d457-43c9-966b-6c72eb8eff77"
      },
      "source": [
        "print(\"Validation loss and accuracy of Classifier Model in Mnist Data: \")\n",
        "test_model(cifar_net, criterion, optimizer_cifar, cifar10_data.test_loader)"
      ],
      "execution_count": 218,
      "outputs": [
        {
          "output_type": "stream",
          "text": [
            "Validation loss and accuracy of Classifier Model in Mnist Data: \n",
            "Val Loss: 1.5295 Acc: 0.4574\n"
          ],
          "name": "stdout"
        }
      ]
    },
    {
      "cell_type": "code",
      "metadata": {
        "id": "Hts_33o8wGuA",
        "colab_type": "code",
        "colab": {
          "base_uri": "https://localhost:8080/",
          "height": 34
        },
        "outputId": "2f6ac87b-0662-4c9d-bda4-f8c3cbecf644"
      },
      "source": [
        "# save_model(cifar_net, 'cifar_net.pt')"
      ],
      "execution_count": 219,
      "outputs": [
        {
          "output_type": "stream",
          "text": [
            "Model Saved...\n"
          ],
          "name": "stdout"
        }
      ]
    },
    {
      "cell_type": "code",
      "metadata": {
        "id": "i_GGC-BYwUGM",
        "colab_type": "code",
        "colab": {
          "base_uri": "https://localhost:8080/",
          "height": 554
        },
        "outputId": "34395670-4317-4129-f1cb-6efba5e7f799"
      },
      "source": [
        "y = torch.FloatTensor([0.0, 0, 1, 0, 0, 0, 0, 0, 0, 0])\n",
        "x = torch.randn((1, 3, 32, 32), requires_grad=True)\n",
        "images, labels = MI_face(x, y, cifar_net, alpha=3000)"
      ],
      "execution_count": 220,
      "outputs": [
        {
          "output_type": "stream",
          "text": [
            "loss 4.184124946594238\n",
            "loss 2.906006336212158\n",
            "loss 1.9802480936050415\n",
            "loss 1.3816009759902954\n",
            "loss 0.9820631742477417\n",
            "loss 0.7331258058547974\n",
            "loss 0.5716275572776794\n",
            "loss 0.4621371030807495\n",
            "loss 0.38599228858947754\n",
            "loss 0.32995936274528503\n",
            "loss 0.28739020228385925\n",
            "loss 0.2539925277233124\n",
            "loss 0.22687840461730957\n",
            "loss 0.19931180775165558\n",
            "loss 0.1773352473974228\n",
            "loss 0.15956847369670868\n",
            "loss 0.14495410025119781\n",
            "loss 0.1330661028623581\n",
            "loss 0.12300939857959747\n",
            "loss 0.11436062306165695\n",
            "loss 0.10688301175832748\n",
            "loss 0.10034515708684921\n",
            "loss 0.09455250203609467\n",
            "loss 0.08941920101642609\n",
            "loss 0.08482123911380768\n",
            "loss 0.08072849363088608\n",
            "loss 0.07701481133699417\n",
            "loss 0.07362618297338486\n",
            "loss 0.07052218914031982\n",
            "loss 0.06766707450151443\n",
            "Image training finished...\n",
            "total iteration: 2999\n"
          ],
          "name": "stdout"
        }
      ]
    },
    {
      "cell_type": "code",
      "metadata": {
        "id": "FEOVGzw5wiNy",
        "colab_type": "code",
        "colab": {
          "base_uri": "https://localhost:8080/",
          "height": 334
        },
        "outputId": "4660708f-ab51-4e03-c148-171904f35f09"
      },
      "source": [
        " \n",
        "# cifar_net = LeNet_cifar10()\n",
        "# cifar_net.load_state_dict(torch.load(F\"/content/gdrive/My Drive/cifar_net.pt\" ))\n",
        "# test_model(cifar_net, criterion, optimizer_ft, cifar10_data.test_loader)\n",
        "print(\"Trained Image True Label: {} ({})\".format(cifar10_data.classes[torch.argmax(labels).item()], torch.argmax(labels).item()))\n",
        "y_pred = cifar_net(images)\n",
        "prob = torch.softmax(y_pred, -1)\n",
        "print(\"Trained Image Predicted Label: {} ({}) \".format(cifar10_data.classes[prob.argmax().item()], prob.argmax().item()))\n",
        "print(\"Predicted probability for the class: \", prob.max().item())\n",
        "pic = images.detach().numpy()\n",
        "pic_1 = pic[0,0,:,:]\n",
        "plt.imshow(pic_1, cmap='Greys', interpolation='nearest')"
      ],
      "execution_count": 222,
      "outputs": [
        {
          "output_type": "stream",
          "text": [
            "Trained Image True Label: bird (2)\n",
            "Trained Image Predicted Label: bird (2) \n",
            "Predicted probability for the class:  0.6518359184265137\n"
          ],
          "name": "stdout"
        },
        {
          "output_type": "execute_result",
          "data": {
            "text/plain": [
              "<matplotlib.image.AxesImage at 0x7f3c9070f208>"
            ]
          },
          "metadata": {
            "tags": []
          },
          "execution_count": 222
        },
        {
          "output_type": "display_data",
          "data": {
            "image/png": "[encoded data removed]",
            "text/plain": [
              "<Figure size 432x288 with 1 Axes>"
            ]
          },
          "metadata": {
            "tags": [],
            "needs_background": "light"
          }
        }
      ]
    }
  ]
}