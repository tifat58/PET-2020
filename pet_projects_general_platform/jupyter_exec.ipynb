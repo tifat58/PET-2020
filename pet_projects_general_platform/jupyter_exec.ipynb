{
 "cells": [
  {
   "cell_type": "code",
   "execution_count": null,
   "metadata": {},
   "outputs": [
    {
     "name": "stdout",
     "output_type": "stream",
     "text": [
      "Choose the attack type:\n",
      "1 - membership inference\n",
      "2 - model inversion\n",
      "3 - model stealing\n",
      ">1\n",
      "Choose the data:\n",
      "1 - mnist\n",
      "2 - fashion-mnist\n",
      "3 - cifar10\n",
      ">3\n",
      "Epoch 0/49\n",
      "----------\n",
      "tensor(4296)\n",
      "Train Loss: 1.7806 Acc: 0.3437\n",
      "Val Loss: 1.5196 Acc: 0.4447\n",
      "\n",
      "Epoch 1/49\n",
      "----------\n",
      "tensor(5931)\n",
      "Train Loss: 1.4571 Acc: 0.4745\n",
      "Val Loss: 1.4415 Acc: 0.4858\n",
      "\n",
      "Epoch 2/49\n",
      "----------\n",
      "tensor(6648)\n",
      "Train Loss: 1.3086 Acc: 0.5318\n",
      "Val Loss: 1.3062 Acc: 0.5304\n",
      "\n",
      "Epoch 3/49\n",
      "----------\n",
      "tensor(7169)\n",
      "Train Loss: 1.1875 Acc: 0.5735\n",
      "Val Loss: 1.2482 Acc: 0.5582\n",
      "\n",
      "Epoch 4/49\n",
      "----------\n",
      "tensor(7618)\n",
      "Train Loss: 1.0986 Acc: 0.6094\n",
      "Val Loss: 1.1900 Acc: 0.5801\n",
      "\n",
      "Epoch 5/49\n",
      "----------\n",
      "tensor(8043)\n",
      "Train Loss: 0.9994 Acc: 0.6434\n",
      "Val Loss: 1.2235 Acc: 0.5756\n",
      "\n",
      "Epoch 6/49\n",
      "----------\n",
      "tensor(8346)\n",
      "Train Loss: 0.9238 Acc: 0.6677\n",
      "Val Loss: 1.1842 Acc: 0.6000\n",
      "\n",
      "Epoch 7/49\n",
      "----------\n",
      "tensor(8786)\n",
      "Train Loss: 0.8432 Acc: 0.7029\n",
      "Val Loss: 1.2325 Acc: 0.5871\n",
      "\n",
      "Epoch 8/49\n",
      "----------\n",
      "tensor(9067)\n",
      "Train Loss: 0.7753 Acc: 0.7254\n",
      "Val Loss: 1.1542 Acc: 0.6192\n",
      "\n",
      "Epoch 9/49\n",
      "----------\n",
      "tensor(9431)\n",
      "Train Loss: 0.7025 Acc: 0.7545\n",
      "Val Loss: 1.2238 Acc: 0.6144\n",
      "\n",
      "Epoch 10/49\n",
      "----------\n",
      "tensor(9707)\n",
      "Train Loss: 0.6403 Acc: 0.7766\n",
      "Val Loss: 1.2002 Acc: 0.6125\n",
      "\n",
      "Epoch 11/49\n",
      "----------\n"
     ]
    }
   ],
   "source": [
    "import main"
   ]
  },
  {
   "cell_type": "code",
   "execution_count": null,
   "metadata": {},
   "outputs": [],
   "source": []
  }
 ],
 "metadata": {
  "kernelspec": {
   "display_name": "Python 3",
   "language": "python",
   "name": "python3"
  },
  "language_info": {
   "codemirror_mode": {
    "name": "ipython",
    "version": 3
   },
   "file_extension": ".py",
   "mimetype": "text/x-python",
   "name": "python",
   "nbconvert_exporter": "python",
   "pygments_lexer": "ipython3",
   "version": "3.7.3"
  }
 },
 "nbformat": 4,
 "nbformat_minor": 2
}
